{
 "cells": [
  {
   "cell_type": "markdown",
   "metadata": {},
   "source": [
    "# Programming Assignment: \n",
    "## Готовим LDA по рецептам"
   ]
  },
  {
   "cell_type": "markdown",
   "metadata": {},
   "source": [
    "Как вы уже знаете, в тематическом моделировании делается предположение о том, что для определения тематики порядок слов в документе не важен; об этом гласит гипотеза «мешка слов». Сегодня мы будем работать с несколько нестандартной для тематического моделирования коллекцией, которую можно назвать «мешком ингредиентов», потому что на состоит из рецептов блюд разных кухонь. Тематические модели ищут слова, которые часто вместе встречаются в документах, и составляют из них темы. Мы попробуем применить эту идею к рецептам и найти кулинарные «темы». Эта коллекция хороша тем, что не требует предобработки. Кроме того, эта задача достаточно наглядно иллюстрирует принцип работы тематических моделей.\n",
    "\n",
    "Для выполнения заданий, помимо часто используемых в курсе библиотек, потребуются модули *json* и *gensim*. Первый входит в дистрибутив Anaconda, второй можно поставить командой \n",
    "\n",
    "*pip install gensim*\n",
    "\n",
    "Построение модели занимает некоторое время. На ноутбуке с процессором Intel Core i7 и тактовой частотой 2400 МГц на построение одной модели уходит менее 10 минут."
   ]
  },
  {
   "cell_type": "markdown",
   "metadata": {},
   "source": [
    "### Загрузка данных"
   ]
  },
  {
   "cell_type": "markdown",
   "metadata": {},
   "source": [
    "Коллекция дана в json-формате: для каждого рецепта известны его id, кухня (cuisine) и список ингредиентов, в него входящих. Загрузить данные можно с помощью модуля json (он входит в дистрибутив Anaconda):"
   ]
  },
  {
   "cell_type": "code",
   "execution_count": 1,
   "metadata": {},
   "outputs": [],
   "source": [
    "import json"
   ]
  },
  {
   "cell_type": "code",
   "execution_count": 2,
   "metadata": {},
   "outputs": [],
   "source": [
    "with open(\"recipes.json\") as f:\n",
    "    recipes = json.load(f)"
   ]
  },
  {
   "cell_type": "code",
   "execution_count": 3,
   "metadata": {},
   "outputs": [
    {
     "name": "stdout",
     "output_type": "stream",
     "text": [
      "{'id': 10259, 'cuisine': 'greek', 'ingredients': ['romaine lettuce', 'black olives', 'grape tomatoes', 'garlic', 'pepper', 'purple onion', 'seasoning', 'garbanzo beans', 'feta cheese crumbles']}\n"
     ]
    }
   ],
   "source": [
    "print(recipes[0])"
   ]
  },
  {
   "cell_type": "markdown",
   "metadata": {},
   "source": [
    "### Составление корпуса"
   ]
  },
  {
   "cell_type": "code",
   "execution_count": 4,
   "metadata": {},
   "outputs": [],
   "source": [
    "from gensim import corpora, models\n",
    "import numpy as np"
   ]
  },
  {
   "cell_type": "markdown",
   "metadata": {},
   "source": [
    "Наша коллекция небольшая, и целиком помещается в оперативную память. Gensim может работать с такими данными и не требует их сохранения на диск в специальном формате. Для этого коллекция должна быть представлена в виде списка списков, каждый внутренний список соответствует отдельному документу и состоит из его слов. Пример коллекции из двух документов: \n",
    "\n",
    "[[\"hello\", \"world\"], [\"programming\", \"in\", \"python\"]]\n",
    "\n",
    "Преобразуем наши данные в такой формат, а затем создадим объекты corpus и dictionary, с которыми будет работать модель."
   ]
  },
  {
   "cell_type": "code",
   "execution_count": 5,
   "metadata": {},
   "outputs": [],
   "source": [
    "texts = [recipe[\"ingredients\"] for recipe in recipes]\n",
    "dictionary = corpora.Dictionary(texts)   # составляем словарь\n",
    "corpus = [dictionary.doc2bow(text) for text in texts]  # составляем корпус документов"
   ]
  },
  {
   "cell_type": "code",
   "execution_count": 6,
   "metadata": {},
   "outputs": [
    {
     "name": "stdout",
     "output_type": "stream",
     "text": [
      "['romaine lettuce', 'black olives', 'grape tomatoes', 'garlic', 'pepper', 'purple onion', 'seasoning', 'garbanzo beans', 'feta cheese crumbles']\n",
      "[(0, 1), (1, 1), (2, 1), (3, 1), (4, 1), (5, 1), (6, 1), (7, 1), (8, 1)]\n"
     ]
    }
   ],
   "source": [
    "print(texts[0])\n",
    "print(corpus[0])"
   ]
  },
  {
   "cell_type": "markdown",
   "metadata": {},
   "source": [
    "У объекта dictionary есть полезная переменная dictionary.token2id, позволяющая находить соответствие между ингредиентами и их индексами."
   ]
  },
  {
   "cell_type": "markdown",
   "metadata": {},
   "source": [
    "### Обучение модели\n",
    "Вам может понадобиться [документация](https://radimrehurek.com/gensim/models/ldamodel.html) LDA в gensim."
   ]
  },
  {
   "cell_type": "markdown",
   "metadata": {},
   "source": [
    "__Задание 1.__ Обучите модель LDA с 40 темами, установив количество проходов по коллекции 5 и оставив остальные параметры по умолчанию. \n",
    "\n",
    "\n",
    "Затем вызовите метод модели *show_topics*, указав количество тем 40 и количество токенов 10, и сохраните результат (топы ингредиентов в темах) в отдельную переменную. Если при вызове метода *show_topics* указать параметр *formatted=True*, то топы ингредиентов будет удобно выводить на печать, если *formatted=False*, будет удобно работать со списком программно. Выведите топы на печать, рассмотрите темы, а затем ответьте на вопрос:\n",
    "\n",
    "Сколько раз ингредиенты \"salt\", \"sugar\", \"water\", \"mushrooms\", \"chicken\", \"eggs\" встретились среди топов-10 всех 40 тем? При ответе __не нужно__ учитывать составные ингредиенты, например, \"hot water\".\n",
    "\n",
    "Передайте 6 чисел в функцию save_answers1 и загрузите сгенерированный файл в форму.\n",
    "\n",
    "У gensim нет возможности фиксировать случайное приближение через параметры метода, но библиотека использует numpy для инициализации матриц. Поэтому, по утверждению автора библиотеки, фиксировать случайное приближение нужно командой, которая написана в следующей ячейке. __Перед строкой кода с построением модели обязательно вставляйте указанную строку фиксации random.seed.__"
   ]
  },
  {
   "cell_type": "code",
   "execution_count": 7,
   "metadata": {},
   "outputs": [
    {
     "name": "stdout",
     "output_type": "stream",
     "text": [
      "CPU times: user 2min 56s, sys: 604 ms, total: 2min 57s\n",
      "Wall time: 3min 26s\n"
     ]
    }
   ],
   "source": [
    "np.random.seed(76543)\n",
    "# здесь код для построения модели:\n",
    "%time ldamodel = models.ldamodel.LdaModel(corpus, id2word=dictionary, num_topics=40, passes=5)"
   ]
  },
  {
   "cell_type": "code",
   "execution_count": 8,
   "metadata": {},
   "outputs": [],
   "source": [
    "top_ft = ldamodel.show_topics(num_topics=40, num_words=10, formatted=True)\n",
    "top_ff = ldamodel.show_topics(num_topics=40, num_words=10, formatted=False)"
   ]
  },
  {
   "cell_type": "code",
   "execution_count": 9,
   "metadata": {},
   "outputs": [
    {
     "name": "stdout",
     "output_type": "stream",
     "text": [
      "[(0, '0.106*\"chopped onion\" + 0.083*\"garlic cloves\" + 0.064*\"salt\" + 0.054*\"fat free less sodium chicken broth\" + 0.048*\"sliced green onions\" + 0.047*\"cooking spray\" + 0.045*\"ground red pepper\" + 0.044*\"water\" + 0.038*\"spinach\" + 0.031*\"black pepper\"'), (1, '0.101*\"corn kernels\" + 0.086*\"diced onions\" + 0.072*\"tortillas\" + 0.066*\"vegetable stock\" + 0.050*\"chopped fresh chives\" + 0.049*\"sliced black olives\" + 0.048*\"cream cheese, soften\" + 0.043*\"lard\" + 0.034*\"jack cheese\" + 0.024*\"canned black beans\"'), (2, '0.086*\"olive oil\" + 0.060*\"crushed red pepper\" + 0.056*\"fresh parsley\" + 0.042*\"garlic cloves\" + 0.039*\"grated parmesan cheese\" + 0.035*\"cherry tomatoes\" + 0.035*\"butter\" + 0.035*\"salt\" + 0.034*\"low salt chicken broth\" + 0.032*\"fresh rosemary\"'), (3, '0.074*\"bacon\" + 0.070*\"salt\" + 0.061*\"red pepper flakes\" + 0.054*\"onions\" + 0.051*\"garlic\" + 0.049*\"ground black pepper\" + 0.044*\"mushrooms\" + 0.043*\"chicken thighs\" + 0.042*\"pasta\" + 0.034*\"olive oil\"'), (4, '0.091*\"cooking spray\" + 0.067*\"salt\" + 0.061*\"powdered sugar\" + 0.055*\"large egg whites\" + 0.054*\"all-purpose flour\" + 0.051*\"sugar\" + 0.049*\"large eggs\" + 0.045*\"cream cheese\" + 0.044*\"yellow corn meal\" + 0.042*\"butter\"'), (5, '0.093*\"large garlic cloves\" + 0.092*\"shallots\" + 0.075*\"dry white wine\" + 0.056*\"olive oil\" + 0.045*\"finely chopped onion\" + 0.033*\"unsalted butter\" + 0.033*\"salt\" + 0.032*\"white wine vinegar\" + 0.031*\"arborio rice\" + 0.027*\"saffron threads\"'), (6, '0.078*\"fresh thyme\" + 0.078*\"dry red wine\" + 0.053*\"pork tenderloin\" + 0.047*\"reduced sodium soy sauce\" + 0.047*\"cilantro sprigs\" + 0.041*\"beef broth\" + 0.036*\"peppercorns\" + 0.032*\"cremini mushrooms\" + 0.023*\"rosemary\" + 0.023*\"daikon\"'), (7, '0.092*\"soy sauce\" + 0.051*\"sesame oil\" + 0.043*\"scallions\" + 0.042*\"green onions\" + 0.041*\"rice vinegar\" + 0.039*\"sugar\" + 0.037*\"corn starch\" + 0.035*\"garlic\" + 0.034*\"vegetable oil\" + 0.027*\"fresh ginger\"'), (8, '0.175*\"garlic powder\" + 0.124*\"cayenne pepper\" + 0.066*\"onion powder\" + 0.046*\"ground black pepper\" + 0.044*\"smoked paprika\" + 0.041*\"black pepper\" + 0.040*\"pinenuts\" + 0.038*\"salt\" + 0.026*\"fresh spinach\" + 0.026*\"dried oregano\"'), (9, '0.114*\"extra-virgin olive oil\" + 0.067*\"garlic cloves\" + 0.062*\"fresh lemon juice\" + 0.056*\"salt\" + 0.053*\"olive oil\" + 0.052*\"ground black pepper\" + 0.046*\"plum tomatoes\" + 0.042*\"purple onion\" + 0.035*\"balsamic vinegar\" + 0.033*\"fresh basil\"'), (10, '0.065*\"broccoli florets\" + 0.049*\"button mushrooms\" + 0.048*\"crème fraîche\" + 0.046*\"yellow squash\" + 0.044*\"radishes\" + 0.038*\"greek style plain yogurt\" + 0.038*\"pork sausages\" + 0.035*\"watercress\" + 0.033*\"quickcooking grits\" + 0.031*\"ripe olives\"'), (11, '0.134*\"lime\" + 0.113*\"lime juice\" + 0.056*\"fresh cilantro\" + 0.036*\"chopped cilantro\" + 0.036*\"purple onion\" + 0.031*\"garlic\" + 0.031*\"mango\" + 0.027*\"lime wedges\" + 0.027*\"jalapeno chilies\" + 0.022*\"thai chile\"'), (12, '0.096*\"cheese\" + 0.093*\"ricotta cheese\" + 0.087*\"orange juice\" + 0.059*\"sliced mushrooms\" + 0.058*\"baby spinach\" + 0.057*\"vegetable broth\" + 0.052*\"vegetable oil cooking spray\" + 0.037*\"frozen chopped spinach\" + 0.035*\"part-skim mozzarella cheese\" + 0.033*\"italian sausage\"'), (13, '0.094*\"diced tomatoes\" + 0.063*\"onions\" + 0.060*\"dried oregano\" + 0.053*\"tomato sauce\" + 0.048*\"garlic\" + 0.046*\"tomato paste\" + 0.046*\"salt\" + 0.038*\"olive oil\" + 0.033*\"crushed tomatoes\" + 0.030*\"ground beef\"'), (14, '0.118*\"tomatoes\" + 0.088*\"salt\" + 0.084*\"red wine vinegar\" + 0.072*\"olive oil\" + 0.066*\"cucumber\" + 0.053*\"pepper\" + 0.047*\"lemon juice\" + 0.044*\"fresh oregano\" + 0.035*\"purple onion\" + 0.035*\"garlic\"'), (15, '0.202*\"lemon\" + 0.055*\"orange\" + 0.053*\"boiling water\" + 0.049*\"fine sea salt\" + 0.045*\"sugar\" + 0.044*\"cold water\" + 0.034*\"fennel seeds\" + 0.032*\"almonds\" + 0.031*\"water\" + 0.028*\"mint\"'), (16, '0.102*\"chopped cilantro fresh\" + 0.076*\"fresh lime juice\" + 0.069*\"jalapeno chilies\" + 0.051*\"white onion\" + 0.046*\"salt\" + 0.042*\"avocado\" + 0.038*\"ground cumin\" + 0.037*\"garlic cloves\" + 0.028*\"vegetable oil\" + 0.027*\"cilantro leaves\"'), (17, '0.100*\"ground ginger\" + 0.099*\"ground cinnamon\" + 0.081*\"raisins\" + 0.077*\"ground cloves\" + 0.070*\"white wine\" + 0.061*\"ground allspice\" + 0.055*\"fresh mushrooms\" + 0.050*\"lean ground beef\" + 0.032*\"dried rosemary\" + 0.030*\"iceberg lettuce\"'), (18, '0.117*\"parmesan cheese\" + 0.072*\"warm water\" + 0.064*\"salt\" + 0.053*\"olive oil\" + 0.053*\"dried basil\" + 0.039*\"grits\" + 0.032*\"kale\" + 0.031*\"plain flour\" + 0.028*\"water\" + 0.027*\"dry yeast\"'), (19, '0.122*\"unsalted butter\" + 0.098*\"large eggs\" + 0.097*\"all-purpose flour\" + 0.076*\"salt\" + 0.061*\"sugar\" + 0.039*\"whole milk\" + 0.038*\"granulated sugar\" + 0.034*\"baking powder\" + 0.026*\"large egg yolks\" + 0.026*\"buttermilk\"'), (20, '0.118*\"flat leaf parsley\" + 0.101*\"freshly ground pepper\" + 0.055*\"extra-virgin olive oil\" + 0.054*\"garlic cloves\" + 0.044*\"large shrimp\" + 0.044*\"olive oil\" + 0.042*\"salt\" + 0.033*\"dry bread crumbs\" + 0.027*\"ground black pepper\" + 0.024*\"kosher salt\"'), (21, '0.146*\"chicken broth\" + 0.067*\"green bell pepper\" + 0.059*\"boneless skinless chicken breast halves\" + 0.055*\"boneless skinless chicken breasts\" + 0.055*\"onions\" + 0.049*\"chicken breasts\" + 0.040*\"red bell pepper\" + 0.040*\"butter\" + 0.039*\"pepper\" + 0.035*\"salt\"'), (22, '0.115*\"grated parmesan cheese\" + 0.063*\"olive oil\" + 0.056*\"zucchini\" + 0.045*\"salt\" + 0.042*\"garlic\" + 0.041*\"mozzarella cheese\" + 0.038*\"shredded mozzarella cheese\" + 0.037*\"eggplant\" + 0.034*\"pepper\" + 0.033*\"eggs\"'), (23, '0.078*\"brown sugar\" + 0.051*\"water\" + 0.050*\"salt\" + 0.048*\"soy sauce\" + 0.046*\"white pepper\" + 0.044*\"oil\" + 0.040*\"sugar\" + 0.038*\"sauce\" + 0.035*\"ketchup\" + 0.034*\"garlic\"'), (24, '0.074*\"ground cumin\" + 0.047*\"ground coriander\" + 0.046*\"salt\" + 0.039*\"curry powder\" + 0.033*\"onions\" + 0.029*\"garlic\" + 0.028*\"vegetable oil\" + 0.027*\"ground turmeric\" + 0.027*\"garlic cloves\" + 0.024*\"fresh ginger\"'), (25, '0.089*\"hot water\" + 0.083*\"chopped garlic\" + 0.065*\"peanut oil\" + 0.059*\"rice wine\" + 0.046*\"hot red pepper flakes\" + 0.036*\"corn oil\" + 0.033*\"fontina cheese\" + 0.030*\"marsala wine\" + 0.030*\"seasoning\" + 0.029*\"garlic chili sauce\"'), (26, '0.082*\"mirin\" + 0.072*\"chickpeas\" + 0.051*\"red pepper\" + 0.050*\"mint leaves\" + 0.048*\"chopped fresh mint\" + 0.048*\"juice\" + 0.039*\"sugar\" + 0.037*\"fresh coriander\" + 0.035*\"sake\" + 0.030*\"grated lemon zest\"'), (27, '0.185*\"heavy cream\" + 0.102*\"cheddar cheese\" + 0.069*\"frozen peas\" + 0.066*\"grated nutmeg\" + 0.041*\"bananas\" + 0.037*\"bread\" + 0.026*\"ice\" + 0.024*\"adobo sauce\" + 0.023*\"old bay seasoning\" + 0.022*\"butter\"'), (28, '0.115*\"oil\" + 0.087*\"salt\" + 0.053*\"cilantro leaves\" + 0.051*\"green chilies\" + 0.049*\"cumin seed\" + 0.046*\"onions\" + 0.043*\"ground turmeric\" + 0.041*\"water\" + 0.033*\"chili powder\" + 0.029*\"tomatoes\"'), (29, '0.077*\"sour cream\" + 0.047*\"salsa\" + 0.047*\"flour tortillas\" + 0.045*\"chili powder\" + 0.042*\"corn tortillas\" + 0.041*\"shredded cheddar cheese\" + 0.040*\"black beans\" + 0.036*\"cilantro\" + 0.030*\"salt\" + 0.028*\"ground cumin\"'), (30, '0.093*\"sugar\" + 0.081*\"whipping cream\" + 0.076*\"egg yolks\" + 0.051*\"vanilla extract\" + 0.051*\"butter\" + 0.049*\"egg whites\" + 0.043*\"half & half\" + 0.037*\"sweetened condensed milk\" + 0.035*\"water\" + 0.031*\"strawberries\"'), (31, '0.100*\"shrimp\" + 0.063*\"medium shrimp\" + 0.045*\"long-grain rice\" + 0.045*\"vegetable oil\" + 0.036*\"green onions\" + 0.035*\"long grain white rice\" + 0.035*\"rice noodles\" + 0.035*\"hot pepper sauce\" + 0.029*\"scallions\" + 0.026*\"asian fish sauce\"'), (32, '0.112*\"eggs\" + 0.104*\"milk\" + 0.096*\"salt\" + 0.073*\"butter\" + 0.068*\"all-purpose flour\" + 0.042*\"flour\" + 0.041*\"baking powder\" + 0.040*\"white sugar\" + 0.040*\"sugar\" + 0.023*\"water\"'), (33, '0.062*\"rice\" + 0.054*\"coriander\" + 0.049*\"onions\" + 0.047*\"salt\" + 0.042*\"garam masala\" + 0.040*\"ginger\" + 0.040*\"tumeric\" + 0.038*\"cabbage\" + 0.035*\"garlic\" + 0.033*\"ghee\"'), (34, '0.091*\"cinnamon sticks\" + 0.085*\"clove\" + 0.071*\"black peppercorns\" + 0.042*\"chopped tomatoes\" + 0.042*\"cream\" + 0.039*\"garlic paste\" + 0.035*\"yoghurt\" + 0.034*\"coriander seeds\" + 0.033*\"fresh dill\" + 0.029*\"onions\"'), (35, '0.066*\"onions\" + 0.051*\"bay leaves\" + 0.050*\"celery\" + 0.048*\"salt\" + 0.046*\"dried thyme\" + 0.045*\"bay leaf\" + 0.045*\"carrots\" + 0.041*\"water\" + 0.033*\"garlic\" + 0.031*\"ground black pepper\"'), (36, '0.116*\"salt\" + 0.095*\"pepper\" + 0.072*\"paprika\" + 0.070*\"onions\" + 0.056*\"potatoes\" + 0.044*\"butter\" + 0.038*\"garlic\" + 0.037*\"olive oil\" + 0.026*\"worcestershire sauce\" + 0.025*\"carrots\"'), (37, '0.110*\"sea salt\" + 0.066*\"coarse salt\" + 0.057*\"crushed red pepper flakes\" + 0.050*\"extra-virgin olive oil\" + 0.045*\"ground black pepper\" + 0.045*\"celery ribs\" + 0.041*\"ground pepper\" + 0.038*\"kosher salt\" + 0.034*\"garlic cloves\" + 0.033*\"parmigiano reggiano cheese\"'), (38, '0.115*\"fish sauce\" + 0.055*\"coconut milk\" + 0.042*\"garlic\" + 0.037*\"shallots\" + 0.036*\"red chili peppers\" + 0.034*\"lemongrass\" + 0.028*\"sugar\" + 0.026*\"vegetable oil\" + 0.025*\"boneless chicken skinless thigh\" + 0.024*\"cooking oil\"'), (39, '0.153*\"mayonaise\" + 0.095*\"dijon mustard\" + 0.069*\"cider vinegar\" + 0.069*\"cracked black pepper\" + 0.047*\"roma tomatoes\" + 0.043*\"white rice\" + 0.043*\"lemon wedge\" + 0.036*\"romaine lettuce\" + 0.024*\"chicken wings\" + 0.024*\"green onions\"')]\n"
     ]
    }
   ],
   "source": [
    "print(top_ft)"
   ]
  },
  {
   "cell_type": "code",
   "execution_count": 10,
   "metadata": {},
   "outputs": [],
   "source": [
    "dict_w = {\"salt\" : 0,\n",
    "          \"sugar\" : 0,\n",
    "          \"water\" : 0,\n",
    "          \"mushrooms\" : 0,\n",
    "          \"chicken\" : 0,\n",
    "          \"eggs\" : 0\n",
    "         }"
   ]
  },
  {
   "cell_type": "code",
   "execution_count": 11,
   "metadata": {},
   "outputs": [
    {
     "data": {
      "text/plain": [
       "{'salt': 23, 'sugar': 9, 'water': 8, 'mushrooms': 1, 'chicken': 0, 'eggs': 2}"
      ]
     },
     "execution_count": 11,
     "metadata": {},
     "output_type": "execute_result"
    }
   ],
   "source": [
    "for i in range(40):\n",
    "    for j in range(10):\n",
    "        if top_ff[i][1][j][0] == 'salt':\n",
    "            dict_w['salt'] += 1\n",
    "        if top_ff[i][1][j][0] == 'sugar':\n",
    "            dict_w['sugar'] += 1\n",
    "        if top_ff[i][1][j][0] == 'water':\n",
    "            dict_w['water'] += 1\n",
    "        if top_ff[i][1][j][0] == 'mushrooms':\n",
    "            dict_w['mushrooms'] += 1\n",
    "        if top_ff[i][1][j][0] == 'chicken':\n",
    "            dict_w['chicken'] += 1\n",
    "        if top_ff[i][1][j][0] == 'eggs':\n",
    "            dict_w['eggs'] += 1  \n",
    "\n",
    "dict_w"
   ]
  },
  {
   "cell_type": "code",
   "execution_count": 12,
   "metadata": {},
   "outputs": [],
   "source": [
    "def save_answers1(c_salt, c_sugar, c_water, c_mushrooms, c_chicken, c_eggs):\n",
    "    with open(\"cooking_LDA_pa_task1.txt\", \"w\") as fout:\n",
    "        fout.write(\" \".join([str(el) for el in [c_salt, c_sugar, c_water, c_mushrooms, c_chicken, c_eggs]]))"
   ]
  },
  {
   "cell_type": "code",
   "execution_count": 13,
   "metadata": {},
   "outputs": [],
   "source": [
    "c_salt, c_sugar, c_water, c_mushrooms, c_chicken, c_eggs = list(dict_w.values())\n",
    "save_answers1(c_salt, c_sugar, c_water, c_mushrooms, c_chicken, c_eggs)"
   ]
  },
  {
   "cell_type": "markdown",
   "metadata": {},
   "source": [
    "### Фильтрация словаря\n",
    "В топах тем гораздо чаще встречаются первые три рассмотренных ингредиента, чем последние три. При этом наличие в рецепте курицы, яиц и грибов яснее дает понять, что мы будем готовить, чем наличие соли, сахара и воды. Таким образом, даже в рецептах есть слова, часто встречающиеся в текстах и не несущие смысловой нагрузки, и поэтому их не желательно видеть в темах. Наиболее простой прием борьбы с такими фоновыми элементами — фильтрация словаря по частоте. Обычно словарь фильтруют с двух сторон: убирают очень редкие слова (в целях экономии памяти) и очень частые слова (в целях повышения интерпретируемости тем). Мы уберем только частые слова."
   ]
  },
  {
   "cell_type": "code",
   "execution_count": 14,
   "metadata": {},
   "outputs": [],
   "source": [
    "import copy\n",
    "dictionary2 = copy.deepcopy(dictionary)"
   ]
  },
  {
   "cell_type": "markdown",
   "metadata": {},
   "source": [
    "__Задание 2.__ У объекта dictionary2 есть переменная *dfs* — это словарь, ключами которого являются id токена, а элементами — число раз, сколько слово встретилось во всей коллекции. Сохраните в отдельный список ингредиенты, которые встретились в коллекции больше 4000 раз. Вызовите метод словаря *filter_tokens*, подав в качестве первого аргумента полученный список популярных ингредиентов. Вычислите две величины: dict_size_before и dict_size_after — размер словаря до и после фильтрации.\n",
    "\n",
    "Затем, используя новый словарь, создайте новый корпус документов, corpus2, по аналогии с тем, как это сделано в начале ноутбука. Вычислите две величины: corpus_size_before и corpus_size_after — суммарное количество ингредиентов в корпусе (для каждого документа вычислите число различных ингредиентов в нем и просуммируйте по всем документам) до и после фильтрации.\n",
    "\n",
    "Передайте величины dict_size_before, dict_size_after, corpus_size_before, corpus_size_after в функцию save_answers2 и загрузите сгенерированный файл в форму."
   ]
  },
  {
   "cell_type": "code",
   "execution_count": 15,
   "metadata": {},
   "outputs": [
    {
     "data": {
      "text/plain": [
       "[3, 5, 15, 11, 18, 20, 29, 44, 52, 59, 104, 114]"
      ]
     },
     "execution_count": 15,
     "metadata": {},
     "output_type": "execute_result"
    }
   ],
   "source": [
    "bad_list = []\n",
    "for i in dictionary2.dfs.keys():\n",
    "    if dictionary2.dfs[i] > 4000:\n",
    "        bad_list.append(i)\n",
    "bad_list"
   ]
  },
  {
   "cell_type": "code",
   "execution_count": 16,
   "metadata": {},
   "outputs": [],
   "source": [
    "dictionary2.filter_tokens(bad_list)"
   ]
  },
  {
   "cell_type": "code",
   "execution_count": 17,
   "metadata": {},
   "outputs": [
    {
     "name": "stdout",
     "output_type": "stream",
     "text": [
      "6714 6702\n"
     ]
    }
   ],
   "source": [
    "dict_size_before = len(dictionary)\n",
    "dict_size_after = len(dictionary2)\n",
    "print(dict_size_before, dict_size_after)"
   ]
  },
  {
   "cell_type": "code",
   "execution_count": 18,
   "metadata": {},
   "outputs": [],
   "source": [
    "corpus2 = [dictionary2.doc2bow(text) for text in texts]  # составляем корпус документов"
   ]
  },
  {
   "cell_type": "code",
   "execution_count": 19,
   "metadata": {},
   "outputs": [
    {
     "name": "stdout",
     "output_type": "stream",
     "text": [
      "428249 343665\n"
     ]
    }
   ],
   "source": [
    "corpus_size_after, corpus_size_before = 0, 0\n",
    "\n",
    "for i in range(len(corpus2)):\n",
    "    corpus_size_after += len(corpus2[i])\n",
    "\n",
    "for i in range(len(corpus)):\n",
    "    corpus_size_before += len(corpus[i])\n",
    "\n",
    "print(corpus_size_before, corpus_size_after)"
   ]
  },
  {
   "cell_type": "code",
   "execution_count": 20,
   "metadata": {},
   "outputs": [],
   "source": [
    "def save_answers2(dict_size_before, dict_size_after, corpus_size_before, corpus_size_after):\n",
    "    with open(\"cooking_LDA_pa_task2.txt\", \"w\") as fout:\n",
    "        fout.write(\" \".join([str(el) for el in [dict_size_before, dict_size_after, corpus_size_before, corpus_size_after]]))"
   ]
  },
  {
   "cell_type": "code",
   "execution_count": 21,
   "metadata": {},
   "outputs": [],
   "source": [
    "save_answers2(dict_size_before, dict_size_after, corpus_size_before, corpus_size_after)"
   ]
  },
  {
   "cell_type": "markdown",
   "metadata": {},
   "source": [
    "### Сравнение когерентностей\n",
    "__Задание 3.__ Постройте еще одну модель по корпусу corpus2 и словарю dictionary2, остальные параметры оставьте такими же, как при первом построении модели. Сохраните новую модель в другую переменную (не перезаписывайте предыдущую модель). Не забудьте про фиксирование seed!\n",
    "\n",
    "Затем воспользуйтесь методом *top_topics* модели, чтобы вычислить ее когерентность. Передайте в качестве аргумента соответствующий модели корпус. Метод вернет список кортежей (топ токенов, когерентность), отсортированных по убыванию последней. Вычислите среднюю по всем темам когерентность для каждой из двух моделей и передайте в функцию save_answers3. "
   ]
  },
  {
   "cell_type": "code",
   "execution_count": 22,
   "metadata": {},
   "outputs": [
    {
     "name": "stdout",
     "output_type": "stream",
     "text": [
      "CPU times: user 2min 21s, sys: 453 ms, total: 2min 22s\n",
      "Wall time: 2min 33s\n"
     ]
    }
   ],
   "source": [
    "np.random.seed(76543)\n",
    "# здесь код для построения модели:\n",
    "%time ldamodel2 = models.ldamodel.LdaModel(corpus2, id2word=dictionary2, num_topics=40, passes=5)"
   ]
  },
  {
   "cell_type": "code",
   "execution_count": 23,
   "metadata": {},
   "outputs": [
    {
     "data": {
      "text/plain": [
       "(-6.338386390828257, -8.596629015979598)"
      ]
     },
     "execution_count": 23,
     "metadata": {},
     "output_type": "execute_result"
    }
   ],
   "source": [
    "coherence = np.mean([c[1] for c in ldamodel.top_topics(corpus)])\n",
    "coherence2 = np.mean([c[1] for c in ldamodel2.top_topics(corpus2)])\n",
    "coherence, coherence2"
   ]
  },
  {
   "cell_type": "markdown",
   "metadata": {},
   "source": [
    "В старой версии gensim=2.3.0 показатели когерентности вот такие (-703.2019367755069, -747.6959617371538) и именно они принимаются за правильный ответ."
   ]
  },
  {
   "cell_type": "code",
   "execution_count": 24,
   "metadata": {},
   "outputs": [],
   "source": [
    "def save_answers3(coherence, coherence2):\n",
    "    with open(\"cooking_LDA_pa_task3.txt\", \"w\") as fout:\n",
    "        fout.write(\" \".join([\"%3f\"%el for el in [coherence, coherence2]]))"
   ]
  },
  {
   "cell_type": "code",
   "execution_count": 25,
   "metadata": {},
   "outputs": [],
   "source": [
    "save_answers3(coherence, coherence2)"
   ]
  },
  {
   "cell_type": "markdown",
   "metadata": {},
   "source": [
    "Считается, что когерентность хорошо соотносится с человеческими оценками интерпретируемости тем. Поэтому на больших текстовых коллекциях когерентность обычно повышается, если убрать фоновую лексику. Однако в нашем случае этого не произошло. "
   ]
  },
  {
   "cell_type": "markdown",
   "metadata": {},
   "source": [
    "### Изучение влияния гиперпараметра alpha"
   ]
  },
  {
   "cell_type": "markdown",
   "metadata": {},
   "source": [
    "В этом разделе мы будем работать со второй моделью, то есть той, которая построена по сокращенному корпусу. \n",
    "\n",
    "Пока что мы посмотрели только на матрицу темы-слова, теперь давайте посмотрим на матрицу темы-документы. Выведите темы для нулевого (или любого другого) документа из корпуса, воспользовавшись методом *get_document_topics* второй модели:"
   ]
  },
  {
   "cell_type": "code",
   "execution_count": 26,
   "metadata": {},
   "outputs": [
    {
     "data": {
      "text/plain": [
       "[(25, 0.12812185), (31, 0.6175929), (33, 0.13865705)]"
      ]
     },
     "execution_count": 26,
     "metadata": {},
     "output_type": "execute_result"
    }
   ],
   "source": [
    "ldamodel2.get_document_topics(corpus2)[0]"
   ]
  },
  {
   "cell_type": "markdown",
   "metadata": {},
   "source": [
    "Также выведите содержимое переменной *.alpha* второй модели:"
   ]
  },
  {
   "cell_type": "code",
   "execution_count": 27,
   "metadata": {},
   "outputs": [
    {
     "data": {
      "text/plain": [
       "array([0.025, 0.025, 0.025, 0.025, 0.025, 0.025, 0.025, 0.025, 0.025,\n",
       "       0.025, 0.025, 0.025, 0.025, 0.025, 0.025, 0.025, 0.025, 0.025,\n",
       "       0.025, 0.025, 0.025, 0.025, 0.025, 0.025, 0.025, 0.025, 0.025,\n",
       "       0.025, 0.025, 0.025, 0.025, 0.025, 0.025, 0.025, 0.025, 0.025,\n",
       "       0.025, 0.025, 0.025, 0.025], dtype=float32)"
      ]
     },
     "execution_count": 27,
     "metadata": {},
     "output_type": "execute_result"
    }
   ],
   "source": [
    "ldamodel2.alpha"
   ]
  },
  {
   "cell_type": "markdown",
   "metadata": {},
   "source": [
    "У вас должно получиться, что документ характеризуется небольшим числом тем. Попробуем поменять гиперпараметр alpha, задающий априорное распределение Дирихле для распределений тем в документах."
   ]
  },
  {
   "cell_type": "markdown",
   "metadata": {},
   "source": [
    "__Задание 4.__ Обучите третью модель: используйте сокращенный корпус (corpus2 и dictionary2) и установите параметр __alpha=1__, passes=5. Не забудьте про фиксацию seed! Выведите темы новой модели для нулевого документа; должно получиться, что распределение над множеством тем практически равномерное. Чтобы убедиться в том, что во второй модели документы описываются гораздо более разреженными распределениями, чем в третьей, посчитайте суммарное количество элементов, __превосходящих 0.01__, в матрицах темы-документы обеих моделей. Другими словами, запросите темы  модели для каждого документа с параметром *minimum_probability=0.01* и просуммируйте число элементов в получаемых массивах. Передайте две суммы (сначала для модели с alpha по умолчанию, затем для модели в alpha=1) в функцию save_answers4."
   ]
  },
  {
   "cell_type": "code",
   "execution_count": 28,
   "metadata": {},
   "outputs": [
    {
     "name": "stdout",
     "output_type": "stream",
     "text": [
      "CPU times: user 1min 37s, sys: 448 ms, total: 1min 38s\n",
      "Wall time: 1min 48s\n"
     ]
    }
   ],
   "source": [
    "np.random.seed(76543)\n",
    "# здесь код для построения модели:\n",
    "%time ldamodel3 = models.ldamodel.LdaModel(corpus2, id2word=dictionary2, num_topics=40, passes=5, alpha=1)"
   ]
  },
  {
   "cell_type": "code",
   "execution_count": 29,
   "metadata": {},
   "outputs": [
    {
     "data": {
      "text/plain": [
       "[(0, 0.021397678),\n",
       " (1, 0.021295447),\n",
       " (2, 0.021276837),\n",
       " (3, 0.021365931),\n",
       " (4, 0.021295369),\n",
       " (5, 0.021311186),\n",
       " (6, 0.02130497),\n",
       " (7, 0.021280425),\n",
       " (8, 0.021401405),\n",
       " (9, 0.021379557),\n",
       " (10, 0.021837922),\n",
       " (11, 0.021492528),\n",
       " (12, 0.021276837),\n",
       " (13, 0.022189574),\n",
       " (14, 0.021718115),\n",
       " (15, 0.021506602),\n",
       " (16, 0.021404233),\n",
       " (17, 0.021964423),\n",
       " (18, 0.021329323),\n",
       " (19, 0.021678481),\n",
       " (20, 0.024654198),\n",
       " (21, 0.021277266),\n",
       " (22, 0.021276837),\n",
       " (23, 0.021284843),\n",
       " (24, 0.021771766),\n",
       " (25, 0.021494577),\n",
       " (26, 0.021462502),\n",
       " (27, 0.021634096),\n",
       " (28, 0.021495204),\n",
       " (29, 0.02130315),\n",
       " (30, 0.04261503),\n",
       " (31, 0.092192866),\n",
       " (32, 0.02150039),\n",
       " (33, 0.021278715),\n",
       " (34, 0.021446656),\n",
       " (35, 0.021365928),\n",
       " (36, 0.021331841),\n",
       " (37, 0.021289432),\n",
       " (38, 0.021277951),\n",
       " (39, 0.06833993)]"
      ]
     },
     "execution_count": 29,
     "metadata": {},
     "output_type": "execute_result"
    }
   ],
   "source": [
    "ldamodel3.get_document_topics(corpus2)[0]"
   ]
  },
  {
   "cell_type": "code",
   "execution_count": 30,
   "metadata": {},
   "outputs": [
    {
     "data": {
      "text/plain": [
       "(203680, 1590960)"
      ]
     },
     "execution_count": 30,
     "metadata": {},
     "output_type": "execute_result"
    }
   ],
   "source": [
    "doc_topic2 = ldamodel2.get_document_topics(corpus2, minimum_probability=0.01)\n",
    "doc_topic3 = ldamodel3.get_document_topics(corpus2, minimum_probability=0.01)\n",
    "count_model2, count_model3 = 0, 0\n",
    "\n",
    "for i in range(len(doc_topic2)):\n",
    "    count_model2 += len(doc_topic2[i])\n",
    "\n",
    "for i in range(len(doc_topic3)):\n",
    "    count_model3 += len(doc_topic3[i])\n",
    "\n",
    "count_model2, count_model3    "
   ]
  },
  {
   "cell_type": "code",
   "execution_count": 31,
   "metadata": {},
   "outputs": [],
   "source": [
    "def save_answers4(count_model2, count_model3):\n",
    "    with open(\"cooking_LDA_pa_task4.txt\", \"w\") as fout:\n",
    "        fout.write(\" \".join([str(el) for el in [count_model2, count_model3]]))"
   ]
  },
  {
   "cell_type": "code",
   "execution_count": 32,
   "metadata": {},
   "outputs": [],
   "source": [
    "save_answers4(count_model2, count_model3)"
   ]
  },
  {
   "cell_type": "markdown",
   "metadata": {},
   "source": [
    "Таким образом, гиперпараметр __alpha__ влияет на разреженность распределений тем в документах. Аналогично гиперпараметр __eta__ влияет на разреженность распределений слов в темах."
   ]
  },
  {
   "cell_type": "markdown",
   "metadata": {},
   "source": [
    "### LDA как способ понижения размерности\n",
    "Иногда, распределения над темами, найденные с помощью LDA, добавляют в матрицу объекты-признаки как дополнительные, семантические, признаки, и это может улучшить качество решения задачи. Для простоты давайте просто обучим классификатор рецептов на кухни на признаках, полученных из LDA, и измерим точность (accuracy).\n",
    "\n",
    "__Задание 5.__ Используйте модель, построенную по сокращенной выборке с alpha по умолчанию (вторую модель). Составьте матрицу $\\Theta = p(t|d)$ вероятностей тем в документах; вы можете использовать тот же метод get_document_topics, а также вектор правильных ответов y (в том же порядке, в котором рецепты идут в переменной recipes). Создайте объект RandomForestClassifier со 100 деревьями, с помощью функции cross_val_score вычислите среднюю accuracy по трем фолдам (перемешивать данные не нужно) и передайте в функцию save_answers5."
   ]
  },
  {
   "cell_type": "code",
   "execution_count": 33,
   "metadata": {},
   "outputs": [],
   "source": [
    "from sklearn.ensemble import RandomForestClassifier\n",
    "from sklearn.model_selection import cross_val_score"
   ]
  },
  {
   "cell_type": "code",
   "execution_count": 34,
   "metadata": {},
   "outputs": [],
   "source": [
    "teta = np.zeros((len(corpus2), 40))\n",
    "for index, bow in enumerate(corpus2):\n",
    "    for topic, proba in ldamodel2.get_document_topics(bow):\n",
    "        teta[index, topic] = proba\n",
    "        \n",
    "y = [recipe['cuisine'] for recipe in recipes]"
   ]
  },
  {
   "cell_type": "code",
   "execution_count": 35,
   "metadata": {},
   "outputs": [
    {
     "data": {
      "text/plain": [
       "(39774, 40)"
      ]
     },
     "execution_count": 35,
     "metadata": {},
     "output_type": "execute_result"
    }
   ],
   "source": [
    "teta.shape"
   ]
  },
  {
   "cell_type": "code",
   "execution_count": 36,
   "metadata": {},
   "outputs": [
    {
     "data": {
      "text/plain": [
       "0.552722884296274"
      ]
     },
     "execution_count": 36,
     "metadata": {},
     "output_type": "execute_result"
    }
   ],
   "source": [
    "model = RandomForestClassifier(n_estimators=100)\n",
    "accuracy = cross_val_score(model, teta, y, cv=3)\n",
    "accuracy = np.mean(accuracy)\n",
    "accuracy"
   ]
  },
  {
   "cell_type": "code",
   "execution_count": 37,
   "metadata": {},
   "outputs": [],
   "source": [
    "def save_answers5(accuracy):\n",
    "     with open(\"cooking_LDA_pa_task5.txt\", \"w\") as fout:\n",
    "        fout.write(str(accuracy))"
   ]
  },
  {
   "cell_type": "code",
   "execution_count": 38,
   "metadata": {},
   "outputs": [],
   "source": [
    "save_answers5(accuracy)"
   ]
  },
  {
   "cell_type": "markdown",
   "metadata": {},
   "source": [
    "Для такого большого количества классов это неплохая точность. Вы можете попроовать обучать RandomForest на исходной матрице частот слов, имеющей значительно большую размерность, и увидеть, что accuracy увеличивается на 10–15%. Таким образом, LDA собрал не всю, но достаточно большую часть информации из выборки, в матрице низкого ранга."
   ]
  },
  {
   "cell_type": "markdown",
   "metadata": {},
   "source": [
    "### LDA — вероятностная модель\n",
    "Матричное разложение, использующееся в LDA, интерпретируется как следующий процесс генерации документов.\n",
    "\n",
    "Для документа $d$ длины $n_d$:\n",
    "1. Из априорного распределения Дирихле с параметром alpha сгенерировать распределение над множеством тем: $\\theta_d \\sim Dirichlet(\\alpha)$\n",
    "1. Для каждого слова $w = 1, \\dots, n_d$:\n",
    "    1. Сгенерировать тему из дискретного распределения $t \\sim \\theta_{d}$\n",
    "    1. Сгенерировать слово из дискретного распределения $w \\sim \\phi_{t}$.\n",
    "    \n",
    "Подробнее об этом в [Википедии](https://en.wikipedia.org/wiki/Latent_Dirichlet_allocation).\n",
    "\n",
    "В контексте нашей задачи получается, что, используя данный генеративный процесс, можно создавать новые рецепты. Вы можете передать в функцию модель и число ингредиентов и сгенерировать рецепт :)"
   ]
  },
  {
   "cell_type": "code",
   "execution_count": 122,
   "metadata": {},
   "outputs": [],
   "source": [
    "def generate_recipe(model, num_ingredients):\n",
    "    theta = np.random.dirichlet(model.alpha)\n",
    "    for i in range(num_ingredients):\n",
    "        t = np.random.choice(np.arange(model.num_topics), p=theta)\n",
    "        topic = model.show_topic(t, topn=model.num_terms)\n",
    "        topic_distr = np.array([x[1] for x in topic])\n",
    "        terms = [x[0] for x in topic]\n",
    "        w = np.random.choice(terms, p=topic_distr)\n",
    "        print(w)"
   ]
  },
  {
   "cell_type": "code",
   "execution_count": 123,
   "metadata": {},
   "outputs": [
    {
     "name": "stdout",
     "output_type": "stream",
     "text": [
      "carrots\n",
      "tomatoes\n",
      "caraway seeds\n",
      "black pepper\n",
      "green peas\n",
      "light cream\n",
      "cannellini beans\n",
      "celery ribs\n",
      "butternut squash\n",
      "candied orange peel\n"
     ]
    }
   ],
   "source": [
    "generate_recipe(ldamodel2, 10)"
   ]
  },
  {
   "cell_type": "markdown",
   "metadata": {},
   "source": [
    "### Интерпретация построенной модели\n",
    "Вы можете рассмотреть топы ингредиентов каждой темы. Большиснтво тем сами по себе похожи на рецепты; в некоторых собираются продукты одного вида, например, свежие фрукты или разные виды сыра.\n",
    "\n",
    "Попробуем эмпирически соотнести наши темы с национальными кухнями (cuisine). Построим матрицу $A$ размера темы $x$ кухни, ее элементы $a_{tc}$ — суммы $p(t|d)$ по всем документам $d$, которые отнесены к кухне $c$. Нормируем матрицу на частоты рецептов по разным кухням, чтобы избежать дисбаланса между кухнями. Следующая функция получает на вход объект модели, объект корпуса и исходные данные и возвращает нормированную матрицу $A$. Ее удобно визуализировать с помощью seaborn."
   ]
  },
  {
   "cell_type": "code",
   "execution_count": 124,
   "metadata": {},
   "outputs": [],
   "source": [
    "import pandas\n",
    "import seaborn\n",
    "from matplotlib import pyplot as plt\n",
    "%matplotlib inline"
   ]
  },
  {
   "cell_type": "code",
   "execution_count": 125,
   "metadata": {},
   "outputs": [],
   "source": [
    "def compute_topic_cuisine_matrix(model, corpus, recipes):\n",
    "    # составляем вектор целевых признаков\n",
    "    targets = list(set([recipe[\"cuisine\"] for recipe in recipes]))\n",
    "    # составляем матрицу\n",
    "    tc_matrix = pandas.DataFrame(data=np.zeros((model.num_topics, len(targets))), columns=targets)\n",
    "    for recipe, bow in zip(recipes, corpus):\n",
    "        recipe_topic = model.get_document_topics(bow)\n",
    "        for t, prob in recipe_topic:\n",
    "            tc_matrix[recipe[\"cuisine\"]][t] += prob\n",
    "    # нормируем матрицу\n",
    "    target_sums = pandas.DataFrame(data=np.zeros((1, len(targets))), columns=targets)\n",
    "    for recipe in recipes:\n",
    "        target_sums[recipe[\"cuisine\"]] += 1\n",
    "    return pandas.DataFrame(tc_matrix.values/target_sums.values, columns=tc_matrix.columns)"
   ]
  },
  {
   "cell_type": "code",
   "execution_count": 126,
   "metadata": {},
   "outputs": [],
   "source": [
    "def plot_matrix(tc_matrix):\n",
    "    plt.figure(figsize=(10, 10))\n",
    "    seaborn.heatmap(tc_matrix, square=True)"
   ]
  },
  {
   "cell_type": "code",
   "execution_count": 127,
   "metadata": {},
   "outputs": [
    {
     "data": {
      "image/png": "[encoded data removed]",
      "text/plain": [
       "<Figure size 720x720 with 2 Axes>"
      ]
     },
     "metadata": {
      "needs_background": "light"
     },
     "output_type": "display_data"
    }
   ],
   "source": [
    "# Визуализируйте матрицу\n",
    "plot_matrix(compute_topic_cuisine_matrix(ldamodel2, corpus2, recipes))"
   ]
  },
  {
   "cell_type": "markdown",
   "metadata": {},
   "source": [
    "Чем темнее квадрат в матрице, тем больше связь этой темы с данной кухней. Мы видим, что у нас есть темы, которые связаны с несколькими кухнями. Такие темы показывают набор ингредиентов, которые популярны в кухнях нескольких народов, то есть указывают на схожесть кухонь этих народов. Некоторые темы распределены по всем кухням равномерно, они показывают наборы продуктов, которые часто используются в кулинарии всех стран. "
   ]
  },
  {
   "cell_type": "markdown",
   "metadata": {},
   "source": [
    "Жаль, что в датасете нет названий рецептов, иначе темы было бы проще интерпретировать..."
   ]
  },
  {
   "cell_type": "markdown",
   "metadata": {},
   "source": [
    "### Заключение\n",
    "В этом задании вы построили несколько моделей LDA, посмотрели, на что влияют гиперпараметры модели и как можно использовать построенную модель. "
   ]
  }
 ],
 "metadata": {
  "kernelspec": {
   "display_name": "Python 3",
   "language": "python",
   "name": "python3"
  },
  "language_info": {
   "codemirror_mode": {
    "name": "ipython",
    "version": 3
   },
   "file_extension": ".py",
   "mimetype": "text/x-python",
   "name": "python",
   "nbconvert_exporter": "python",
   "pygments_lexer": "ipython3",
   "version": "3.8.3"
  }
 },
 "nbformat": 4,
 "nbformat_minor": 1
}
