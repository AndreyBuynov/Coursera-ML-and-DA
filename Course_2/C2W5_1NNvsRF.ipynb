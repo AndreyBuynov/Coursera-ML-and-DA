{
 "cells": [
  {
   "cell_type": "markdown",
   "metadata": {},
   "source": [
    "В этом задании будет использоваться датасет digits из sklearn.datasets. Оставьте последние 25% объектов для контроля качества, разделив X и y на X_train, y_train и X_test, y_test.\n",
    "\n",
    "Целью задания будет реализовать самый простой метрический классификатор — метод ближайшего соседа, а также сравнить качество работы реализованного вами 1NN с RandomForestClassifier из sklearn на 1000"
   ]
  },
  {
   "cell_type": "code",
   "execution_count": 4,
   "metadata": {},
   "outputs": [],
   "source": [
    "from sklearn import datasets\n",
    "from sklearn.model_selection import train_test_split\n",
    "\n",
    "digits = datasets.load_digits() #импортируем датасет\n",
    "\n",
    "#выделяем признаки и цели\n",
    "X = digits.data\n",
    "y = digits.target\n",
    "\n",
    "#разделяем данные на тренировочные и тестовые (shuffle = False иначе ответ не принимается)\n",
    "X_train, X_test, y_train, y_test = train_test_split(X, y, test_size = 0.25, shuffle = False)"
   ]
  },
  {
   "cell_type": "markdown",
   "metadata": {},
   "source": [
    "## Задание 1\n",
    "\n",
    "Реализуйте самостоятельно метод одного ближайшего соседа с евклидовой метрикой для задачи классификации. Можно не извлекать корень из суммы квадратов отклонений, т.к. корень — монотонное преобразование и не влияет на результат работы алгоритма.\n",
    "\n",
    "Никакой дополнительной работы с признаками в этом задании делать не нужно — мы еще успеем этим заняться в других курсах. Ваша реализация может быть устроена следующим образом: можно для каждого классифицируемого объекта составлять список пар (расстояние до точки из обучающей выборки, метка класса в этой точке), затем сортировать этот список (по умолчанию сортировка будет сначала по первому элементу пары, затем по второму), а затем брать первый элемент (с наименьшим расстоянием).\n",
    "\n",
    "Сортировка массива длиной N требует порядка N log N сравнений (строже говоря, она работает за O(N log N)). Подумайте, как можно легко улучшить получившееся время работы. Кроме простого способа найти ближайший объект всего за N сравнений, можно попробовать придумать, как разбить пространство признаков на части и сделать структуру данных, которая позволит быстро искать соседей каждой точки. За выбор метода поиска ближайших соседей в KNeighborsClassifier из sklearn отвечает параметр algorithm — если у вас уже есть некоторый бэкграунд в алгоритмах и структурах данных, вам может быть интересно познакомиться со структурами данных ball tree и kd tree.\n",
    "\n",
    "Доля ошибок, допускаемых 1NN на тестовой выборке, — ответ в задании 1."
   ]
  },
  {
   "cell_type": "code",
   "execution_count": 48,
   "metadata": {},
   "outputs": [],
   "source": [
    "# функция подсчета ближайшего к тестовому объекта из обучающей выборки\n",
    "def equals(X_train, y_train, X_test):\n",
    "    min_dist = []\n",
    "    for i in range(1, len(X_train)):\n",
    "        #считаем расстояние без корня + соответствующее значение цели\n",
    "        min_dist.append([sum((X_test - X_train[i]) ** 2), y_train[i]])\n",
    "        min_dist = sorted(min_dist, key=lambda x: x[0]) #сортируем по возрастанию расстояний\n",
    "        y_pred = min_dist[:1] #записываем в ответ значение целевой переменной с минимальным расстоянием\n",
    "    return y_pred\n",
    "\n",
    "pred = []\n",
    "for i in range(len(X_test)):\n",
    "    pred.append(equals(X_train, y_train, X_test[i]))\n"
   ]
  },
  {
   "cell_type": "code",
   "execution_count": 50,
   "metadata": {},
   "outputs": [
    {
     "name": "stdout",
     "output_type": "stream",
     "text": [
      "Доля ошибок на тестовой выборке  0.03777777777777778 %\n"
     ]
    }
   ],
   "source": [
    "#считаем количество ошибок\n",
    "k = 0\n",
    "for i in range(len(pred)):\n",
    "    if pred[i][0][1] != y_test[i]:\n",
    "        k += 1\n",
    "print('Доля ошибок на тестовой выборке ',k/len(pred),'%')"
   ]
  },
  {
   "cell_type": "markdown",
   "metadata": {},
   "source": [
    "## Задание 2\n",
    "\n",
    "Теперь обучите на обучающей выборке RandomForestClassifier(n_estimators=1000) из sklearn. Сделайте прогнозы на тестовой выборке и оцените долю ошибок классификации на ней. Эта доля — ответ в задании 2. Обратите внимание на то, как соотносится качество работы случайного леса с качеством работы, пожалуй, одного из самых простых методов — 1NN. Такое различие — особенность данного датасета, но нужно всегда помнить, что такая ситуация тоже может иметь место, и не забывать про простые методы."
   ]
  },
  {
   "cell_type": "code",
   "execution_count": 51,
   "metadata": {},
   "outputs": [
    {
     "name": "stdout",
     "output_type": "stream",
     "text": [
      "Доля ошибок на тестовой выборке  0.06222222222222222 %\n"
     ]
    }
   ],
   "source": [
    "from sklearn.ensemble import RandomForestClassifier\n",
    "\n",
    "rf_model = RandomForestClassifier(n_estimators = 1000)\n",
    "\n",
    "rf_model.fit(X_train, y_train)\n",
    "pred_rf = rf_model.predict(X_test)\n",
    "\n",
    "k = 0\n",
    "for i in range(len(pred_rf)):\n",
    "    if pred_rf[i] != y_test[i]:\n",
    "        k += 1\n",
    "print('Доля ошибок на тестовой выборке ',k/len(pred_rf),'%')"
   ]
  },
  {
   "cell_type": "code",
   "execution_count": 52,
   "metadata": {},
   "outputs": [
    {
     "name": "stdout",
     "output_type": "stream",
     "text": [
      "Доля ошибок на тестовой выборке  0.03777777777777778 %\n"
     ]
    }
   ],
   "source": [
    "#ради интереса посчитал долю ошибок с классификатором из sklearn для сравнения со своими подсчетами\n",
    "from sklearn.neighbors import KNeighborsClassifier\n",
    "\n",
    "kn_model = KNeighborsClassifier(n_neighbors = 1)\n",
    "kn_model.fit(X_train, y_train)\n",
    "pred_kn = kn_model.predict(X_test)\n",
    "\n",
    "k = 0\n",
    "for i in range(len(pred_kn)):\n",
    "    if pred_kn[i] != y_test[i]:\n",
    "        k += 1\n",
    "print('Доля ошибок на тестовой выборке ',k/len(pred_kn),'%')"
   ]
  },
  {
   "cell_type": "code",
   "execution_count": null,
   "metadata": {},
   "outputs": [],
   "source": []
  }
 ],
 "metadata": {
  "kernelspec": {
   "display_name": "Python 3",
   "language": "python",
   "name": "python3"
  },
  "language_info": {
   "codemirror_mode": {
    "name": "ipython",
    "version": 3
   },
   "file_extension": ".py",
   "mimetype": "text/x-python",
   "name": "python",
   "nbconvert_exporter": "python",
   "pygments_lexer": "ipython3",
   "version": "3.7.7"
  }
 },
 "nbformat": 4,
 "nbformat_minor": 4
}
