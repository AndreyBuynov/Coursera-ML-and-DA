{
 "cells": [
  {
   "cell_type": "markdown",
   "metadata": {},
   "source": [
    "1.\n",
    "В данном задании вам нужно будет\n",
    "\n",
    "* проанализировать АБ тест, проведенный на реальных пользователях Яндекса\n",
    "* подтвердить или опровергнуть наличие изменений в пользовательском поведении между контрольной (control) и тестовой (exp) группами\n",
    "* определить характер этих изменений и практическую значимость вводимого изменения\n",
    "* понять, какая из пользовательских групп более всего проигрывает / выигрывает от тестируемого изменения (локализовать изменение)\n"
   ]
  },
  {
   "cell_type": "markdown",
   "metadata": {},
   "source": [
    "#### Описание данных:\n",
    "* userID: уникальный идентификатор пользователя\n",
    "* browser: браузер, который использовал userID\n",
    "* slot: в каком статусе пользователь участвовал в исследовании (exp = видел измененную страницу, control = видел неизменную страницу)\n",
    "* n_clicks: количество кликов, которые пользоваль совершил за n_queries\n",
    "* n_queries: количество запросов, который совершил userID, пользуясь браузером browser\n",
    "* n_nonclk_queries: количество запросов пользователя, в которых им не было совершено ни одного клика\n",
    "\n",
    "Обращаем ваше внимание, что не все люди используют только один браузер, поэтому в столбце userID есть повторяющиеся идентификаторы. В предлагаемых данных уникальным является сочетание userID и browser."
   ]
  },
  {
   "cell_type": "code",
   "execution_count": 1,
   "metadata": {},
   "outputs": [],
   "source": [
    "import pandas as pd"
   ]
  },
  {
   "cell_type": "code",
   "execution_count": 2,
   "metadata": {},
   "outputs": [
    {
     "data": {
      "text/html": [
       "<div>\n",
       "<style scoped>\n",
       "    .dataframe tbody tr th:only-of-type {\n",
       "        vertical-align: middle;\n",
       "    }\n",
       "\n",
       "    .dataframe tbody tr th {\n",
       "        vertical-align: top;\n",
       "    }\n",
       "\n",
       "    .dataframe thead th {\n",
       "        text-align: right;\n",
       "    }\n",
       "</style>\n",
       "<table border=\"1\" class=\"dataframe\">\n",
       "  <thead>\n",
       "    <tr style=\"text-align: right;\">\n",
       "      <th></th>\n",
       "      <th>userID</th>\n",
       "      <th>browser</th>\n",
       "      <th>slot</th>\n",
       "      <th>n_clicks</th>\n",
       "      <th>n_queries</th>\n",
       "      <th>n_nonclk_queries</th>\n",
       "    </tr>\n",
       "  </thead>\n",
       "  <tbody>\n",
       "    <tr>\n",
       "      <th>0</th>\n",
       "      <td>1</td>\n",
       "      <td>Browser #2</td>\n",
       "      <td>exp</td>\n",
       "      <td>23</td>\n",
       "      <td>32</td>\n",
       "      <td>19</td>\n",
       "    </tr>\n",
       "    <tr>\n",
       "      <th>1</th>\n",
       "      <td>3</td>\n",
       "      <td>Browser #4</td>\n",
       "      <td>exp</td>\n",
       "      <td>3</td>\n",
       "      <td>4</td>\n",
       "      <td>2</td>\n",
       "    </tr>\n",
       "    <tr>\n",
       "      <th>2</th>\n",
       "      <td>5</td>\n",
       "      <td>Browser #4</td>\n",
       "      <td>exp</td>\n",
       "      <td>29</td>\n",
       "      <td>35</td>\n",
       "      <td>16</td>\n",
       "    </tr>\n",
       "    <tr>\n",
       "      <th>3</th>\n",
       "      <td>6</td>\n",
       "      <td>Browser #4</td>\n",
       "      <td>control</td>\n",
       "      <td>12</td>\n",
       "      <td>6</td>\n",
       "      <td>0</td>\n",
       "    </tr>\n",
       "    <tr>\n",
       "      <th>4</th>\n",
       "      <td>7</td>\n",
       "      <td>Browser #4</td>\n",
       "      <td>exp</td>\n",
       "      <td>54</td>\n",
       "      <td>68</td>\n",
       "      <td>30</td>\n",
       "    </tr>\n",
       "  </tbody>\n",
       "</table>\n",
       "</div>"
      ],
      "text/plain": [
       "   userID     browser     slot  n_clicks  n_queries  n_nonclk_queries\n",
       "0       1  Browser #2      exp        23         32                19\n",
       "1       3  Browser #4      exp         3          4                 2\n",
       "2       5  Browser #4      exp        29         35                16\n",
       "3       6  Browser #4  control        12          6                 0\n",
       "4       7  Browser #4      exp        54         68                30"
      ]
     },
     "execution_count": 2,
     "metadata": {},
     "output_type": "execute_result"
    }
   ],
   "source": [
    "ab_data = pd.read_csv('ab_browser_test.csv')\n",
    "ab_data.head()"
   ]
  },
  {
   "cell_type": "markdown",
   "metadata": {},
   "source": [
    "Основная метрика, на которой мы сосредоточимся в этой работе, — это количество пользовательских кликов на web-странице в зависимости от тестируемого изменения этой страницы.\n",
    "\n",
    "Посчитайте, насколько в группе exp больше пользовательских кликов по сравнению с группой control в процентах от числа кликов в контрольной группе.\n",
    "\n",
    "Полученный процент округлите до третьего знака после точки."
   ]
  },
  {
   "cell_type": "code",
   "execution_count": 3,
   "metadata": {},
   "outputs": [
    {
     "data": {
      "text/plain": [
       "1.614"
      ]
     },
     "execution_count": 3,
     "metadata": {},
     "output_type": "execute_result"
    }
   ],
   "source": [
    "control_click = sum(ab_data[ab_data['slot'] == 'control'].n_clicks)\n",
    "exp_click = sum(ab_data[ab_data['slot'] == 'exp'].n_clicks)\n",
    "answer_1 = round((exp_click*100/control_click - 100), 3)\n",
    "answer_1"
   ]
  },
  {
   "cell_type": "markdown",
   "metadata": {},
   "source": [
    "2.\n",
    "Давайте попробуем посмотреть более внимательно на разницу между двумя группами (control и exp) относительно количества пользовательских кликов.\n",
    "\n",
    "Для этого постройте с помощью бутстрепа 95% доверительный интервал для средних значений и медиан количества кликов в каждой из двух групп. Отметьте все верные утверждения."
   ]
  },
  {
   "cell_type": "code",
   "execution_count": 4,
   "metadata": {},
   "outputs": [],
   "source": [
    "import numpy as np\n",
    "\n",
    "def get_bootstrap_samples(data, n_samples):\n",
    "    indices = np.random.randint(0, len(data), (n_samples, len(data)))\n",
    "    samples = data[indices]\n",
    "    return samples\n",
    "\n",
    "def stat_intervals(stat, alpha):\n",
    "    boundaries = np.percentile(stat, [100 * alpha / 2., 100 * (1 - alpha / 2.)])\n",
    "    return boundaries"
   ]
  },
  {
   "cell_type": "code",
   "execution_count": 6,
   "metadata": {},
   "outputs": [
    {
     "name": "stdout",
     "output_type": "stream",
     "text": [
      "95% доверительый интервал для медианных значений кликов в группе control: [4. 4.]\n",
      "95% доверительый интервал для медианных значений кликов в группе exp: [5. 5.]\n"
     ]
    }
   ],
   "source": [
    "control_val = ab_data[ab_data['slot'] == 'control'].n_clicks.values\n",
    "exp_val = ab_data[ab_data['slot'] == 'exp'].n_clicks.values\n",
    "\n",
    "control_median_scores = list(map(np.median, get_bootstrap_samples(control_val, 500)))\n",
    "exp_median_scores = list(map(np.median, get_bootstrap_samples(exp_val, 500)))\n",
    "\n",
    "print(\"95% доверительый интервал для медианных значений кликов в группе control:\",  stat_intervals(control_median_scores, 0.05))\n",
    "print(\"95% доверительый интервал для медианных значений кликов в группе exp:\",  stat_intervals(exp_median_scores, 0.05))"
   ]
  },
  {
   "cell_type": "code",
   "execution_count": 8,
   "metadata": {},
   "outputs": [
    {
     "name": "stdout",
     "output_type": "stream",
     "text": [
      "95% confidence interval for the difference between medians [1. 1.]\n"
     ]
    }
   ],
   "source": [
    "delta_median_scores = list(map(lambda x: x[1] - x[0], zip(control_median_scores, exp_median_scores)))\n",
    "print(\"95% confidence interval for the difference between medians\",  stat_intervals(delta_median_scores, 0.05))"
   ]
  },
  {
   "cell_type": "code",
   "execution_count": 7,
   "metadata": {},
   "outputs": [
    {
     "name": "stdout",
     "output_type": "stream",
     "text": [
      "95% доверительый интервал для средних значений кликов в группе control: [11.2062366  11.35577571]\n",
      "95% доверительый интервал для средних значений кликов в группе exp: [11.50145367 11.66179523]\n"
     ]
    }
   ],
   "source": [
    "control_mean_scores = list(map(np.mean, get_bootstrap_samples(control_val, 500)))\n",
    "exp_mean_scores = list(map(np.mean, get_bootstrap_samples(exp_val, 500)))\n",
    "\n",
    "print(\"95% доверительый интервал для средних значений кликов в группе control:\",  stat_intervals(control_mean_scores, 0.05))\n",
    "print(\"95% доверительый интервал для средних значений кликов в группе exp:\",  stat_intervals(exp_mean_scores, 0.05))"
   ]
  },
  {
   "cell_type": "code",
   "execution_count": 9,
   "metadata": {},
   "outputs": [
    {
     "name": "stdout",
     "output_type": "stream",
     "text": [
      "95% confidence interval for the difference between medians [0.20410455 0.40983457]\n"
     ]
    }
   ],
   "source": [
    "delta_mean_scores = list(map(lambda x: x[1] - x[0], zip(control_mean_scores, exp_mean_scores)))\n",
    "print(\"95% confidence interval for the difference between medians\",  stat_intervals(delta_mean_scores, 0.05))"
   ]
  },
  {
   "cell_type": "markdown",
   "metadata": {},
   "source": [
    "3.\n",
    "Поскольку данных достаточно много (порядка полумиллиона уникальных пользователей), отличие в несколько процентов может быть не только практически значимым, но и значимым статистически. Последнее утверждение нуждается в дополнительной проверке.\n",
    "\n",
    "Посмотрите на выданные вам данные и выберите все верные варианты ответа относительно проверки гипотезы о равенстве среднего количества кликов в группах."
   ]
  },
  {
   "cell_type": "code",
   "execution_count": 10,
   "metadata": {},
   "outputs": [],
   "source": [
    "import matplotlib.pyplot as plt"
   ]
  },
  {
   "cell_type": "code",
   "execution_count": 22,
   "metadata": {},
   "outputs": [
    {
     "data": {
      "image/png": "[encoded data removed]",
      "text/plain": [
       "<Figure size 1008x360 with 2 Axes>"
      ]
     },
     "metadata": {
      "needs_background": "light"
     },
     "output_type": "display_data"
    }
   ],
   "source": [
    "plt.figure(figsize = (14, 5))\n",
    "plt.subplot(1,2,1)\n",
    "plt.hist(ab_data[ab_data['slot'] == 'control'].n_clicks, bins = 30, color = 'b', label = 'control')\n",
    "plt.legend()\n",
    "\n",
    "plt.subplot(1,2,2)\n",
    "plt.hist(ab_data[ab_data['slot'] == 'exp'].n_clicks, bins = 30, color = 'r', label = 'exp')\n",
    "plt.legend()\n",
    "\n",
    "plt.show()"
   ]
  },
  {
   "cell_type": "markdown",
   "metadata": {},
   "source": [
    "4.\n",
    "t-критерий Стьюдента имеет множество достоинств, и потому его достаточно часто применяют в AB экспериментах. Иногда его применение может быть необоснованно из-за сильной скошенности распределения данных.\n",
    "\n",
    "Давайте постараемся понять, когда t-критерий можно применять и как это проверить на реальных данных.\n",
    "\n",
    "Для простоты рассмотрим одновыборочный t-критерий. Его статистика имеет вид $\\frac{\\bar{X} - \\mu}{ \\sqrt {S^2 / n}} $ , то есть чтобы действительно предположения t-критерия выполнялись необходимо, чтобы:\n",
    "* $\\bar{\\chi}$ — среднее значение в выборке — было распределено нормально $\\mathcal{N}(\\mu ,\\frac{\\sigma ^{2}}{n})$\n",
    "* $\\frac{n}{\\sigma ^{2}} S^{2}$ — несмещенная оценка дисперсии c масштабирующим коэффициентом — была распределена по хи-квадрат c $n−1$ степенями свободы $\\chi ^{2}(n−1)$\n",
    "\n",
    "Простое доказательство необходимости и достаточности этого требования можно посмотреть в самом последнем абзаце этого вопроса. Усвоение этого доказательства не обязательно для выполнения задания.\n",
    "\n",
    "Оба этих предположения можно проверить с помощью бутстрепа. Ограничимся сейчас только контрольной группой, в которой распределение кликов будем называть данными в рамках данного вопроса.\n",
    "\n",
    "Поскольку мы не знаем истинного распределения генеральной совокупности, мы можем применить бутстреп, чтобы понять, как распределены среднее значение и выборочная дисперсия. Для этого\n",
    "\n",
    "* Получите из данных n_boot_samples псевдовыборок.\n",
    "* По каждой из этих выборок посчитайте среднее и сумму квадратов отклонения от выборочного среднего (control_boot_chi_squared)\n",
    "* Для получившегося вектора средних значений из n_boot_samples постройте q-q plot с помощью scipy.stats.probplot для нормального распределения\n",
    "* Для получившегося вектора сумм квадратов отклонения от выборочного среднего постройте qq-plot с помощью scipy.stats.probplot для хи-квадрат распределения с помощью команды\n",
    "\n",
    "scipy.stats.probplot(control_boot_chi_squared, dist=\"chi2\", sparams=(n-1), plot=plt)\n",
    "\n",
    "Где sparams=(n-1) означают число степеней свободы = длине выборки - 1.\n",
    "\n",
    "Чтобы получить такой же ответ, как у нас, зафиксируйте seed и количество псевдовыборок:\n",
    "\n",
    "np.random.seed(0)\n",
    "n_boot_samples = 500\n",
    "\n",
    "В качестве ответа отметьте верные утвердения о значениях $R^2$, которые генерирует scipy.stats.probplot при отображении qq-графиков: одно c графика для среднего и одно с графика для выборочной суммы квадратов отклонения от выборочной суммы.\n",
    "\n",
    "#### Почему мы проверяем именно такие условия?\n",
    "\n",
    "В исходной постановке t-критерий требует нормальности распределения $\\chi_{i}$. Именно из-за этого предположения мы имеем, что $\\sum_{i}^{} \\chi _{i} \\sim \\mathcal{N}(n\\mu , n\\sigma ^{2})$ в силу линейности матожидания, независимости всех $\\chi_{i}$ между собой и того факта, что сумма нескольких нормальных случайных величин также нормальна.\n",
    "\n",
    "Поэтому, пользуясь опять формальными свойствами матожидания и дисперсии можем записать, что $\\frac{1}{n} \\sum_i X_i - \\mu ~\\sim~ \\mathcal{N}(0, \\frac{\\sigma^2}{n} )$\n",
    "\n",
    "Заметим теперь, что следующие распределения эквивалентны $\\mathcal{N} (0, \\frac{\\sigma^2}{n}) \\sim \\sqrt{\\frac{\\sigma^2}{n}} \\mathcal{N}(0, 1)$\n",
    "\n",
    "То есть другими словами мы получили, что исходная статистика $\\frac{\\bar{X} - \\mu}{ \\sqrt {S^2 / n}}$ распределена как $\\frac{ \\mathcal{N}(0, 1) } { \\sqrt { \\frac{S^2n} { n \\sigma^2} } } ~\\sim~ \\frac{ \\mathcal{N}(0, 1) } { \\sqrt { \\frac{S^2} { \\sigma^2} } } $\n",
    "\n",
    "Вспомним, что распределение Стьюдента с $n-1$ степенями свободы определяется как $\\frac{ \\mathcal{N}(0, 1) } { \\sqrt { \\chi^2 / (n-1) } } $. Поэтому и требования, которые накладываются, имеют вид, указанный в начале этого вопроса.\n",
    "\n",
    "Полезно, однако, заметить, что можно подставить в числитель и знаменатель любые случайные величины, распределенные по нормальному закону и по Хи-квадрат соответственно, для этого необязательно, чтобы именно $\\chi_{i}$ были распределены нормально. Поэтому, если мы убедимся в том, что, действительно, числитель и знаменатель распределены образом, указанным выше, то можно смело использовать t-критерий Стьюдента."
   ]
  },
  {
   "cell_type": "code",
   "execution_count": 25,
   "metadata": {},
   "outputs": [
    {
     "data": {
      "text/plain": [
       "(500, 284554)"
      ]
     },
     "execution_count": 25,
     "metadata": {},
     "output_type": "execute_result"
    }
   ],
   "source": [
    "np.random.seed(0) \n",
    "n_boot_samples = 500\n",
    "\n",
    "control_bootstrap = get_bootstrap_samples(control_val, n_boot_samples)\n",
    "control_bootstrap.shape"
   ]
  },
  {
   "cell_type": "code",
   "execution_count": 27,
   "metadata": {},
   "outputs": [],
   "source": [
    "control_mean = list(map(np.mean, control_bootstrap))"
   ]
  },
  {
   "cell_type": "code",
   "execution_count": 32,
   "metadata": {},
   "outputs": [
    {
     "ename": "KeyboardInterrupt",
     "evalue": "",
     "output_type": "error",
     "traceback": [
      "\u001b[0;31m---------------------------------------------------------------------------\u001b[0m",
      "\u001b[0;31mKeyboardInterrupt\u001b[0m                         Traceback (most recent call last)",
      "\u001b[0;32m<ipython-input-32-b4c7ab1222a3>\u001b[0m in \u001b[0;36m<module>\u001b[0;34m\u001b[0m\n\u001b[0;32m----> 1\u001b[0;31m \u001b[0mcontrol_boot_chi_squared\u001b[0m \u001b[0;34m=\u001b[0m \u001b[0mlist\u001b[0m\u001b[0;34m(\u001b[0m\u001b[0mmap\u001b[0m\u001b[0;34m(\u001b[0m\u001b[0;34m(\u001b[0m\u001b[0;32mlambda\u001b[0m \u001b[0mx\u001b[0m\u001b[0;34m:\u001b[0m \u001b[0msum\u001b[0m\u001b[0;34m(\u001b[0m\u001b[0;34m(\u001b[0m\u001b[0mx\u001b[0m \u001b[0;34m-\u001b[0m \u001b[0mcontrol_mean\u001b[0m\u001b[0;34m)\u001b[0m\u001b[0;34m**\u001b[0m\u001b[0;36m2\u001b[0m\u001b[0;34m)\u001b[0m\u001b[0;34m)\u001b[0m\u001b[0;34m,\u001b[0m \u001b[0mcontrol_bootstrap\u001b[0m\u001b[0;34m.\u001b[0m\u001b[0mreshape\u001b[0m\u001b[0;34m(\u001b[0m\u001b[0;34m-\u001b[0m\u001b[0;36m1\u001b[0m\u001b[0;34m)\u001b[0m\u001b[0;34m)\u001b[0m\u001b[0;34m)\u001b[0m\u001b[0;34m\u001b[0m\u001b[0;34m\u001b[0m\u001b[0m\n\u001b[0m",
      "\u001b[0;32m<ipython-input-32-b4c7ab1222a3>\u001b[0m in \u001b[0;36m<lambda>\u001b[0;34m(x)\u001b[0m\n\u001b[0;32m----> 1\u001b[0;31m \u001b[0mcontrol_boot_chi_squared\u001b[0m \u001b[0;34m=\u001b[0m \u001b[0mlist\u001b[0m\u001b[0;34m(\u001b[0m\u001b[0mmap\u001b[0m\u001b[0;34m(\u001b[0m\u001b[0;34m(\u001b[0m\u001b[0;32mlambda\u001b[0m \u001b[0mx\u001b[0m\u001b[0;34m:\u001b[0m \u001b[0msum\u001b[0m\u001b[0;34m(\u001b[0m\u001b[0;34m(\u001b[0m\u001b[0mx\u001b[0m \u001b[0;34m-\u001b[0m \u001b[0mcontrol_mean\u001b[0m\u001b[0;34m)\u001b[0m\u001b[0;34m**\u001b[0m\u001b[0;36m2\u001b[0m\u001b[0;34m)\u001b[0m\u001b[0;34m)\u001b[0m\u001b[0;34m,\u001b[0m \u001b[0mcontrol_bootstrap\u001b[0m\u001b[0;34m.\u001b[0m\u001b[0mreshape\u001b[0m\u001b[0;34m(\u001b[0m\u001b[0;34m-\u001b[0m\u001b[0;36m1\u001b[0m\u001b[0;34m)\u001b[0m\u001b[0;34m)\u001b[0m\u001b[0;34m)\u001b[0m\u001b[0;34m\u001b[0m\u001b[0;34m\u001b[0m\u001b[0m\n\u001b[0m",
      "\u001b[0;31mKeyboardInterrupt\u001b[0m: "
     ]
    }
   ],
   "source": [
    "control_boot_chi_squared = list(map((lambda x: sum((x - control_mean)**2)), control_bootstrap.reshape(-1)))"
   ]
  },
  {
   "cell_type": "code",
   "execution_count": null,
   "metadata": {},
   "outputs": [],
   "source": [
    "from scipy.stats import probplot"
   ]
  },
  {
   "cell_type": "code",
   "execution_count": null,
   "metadata": {},
   "outputs": [],
   "source": [
    "probplot(control_boot_chi_squared, dist=\"chi2\", sparams=(len(control_boot_chi_squared)-1), plot = plt)"
   ]
  },
  {
   "cell_type": "code",
   "execution_count": null,
   "metadata": {},
   "outputs": [],
   "source": [
    "probplot(control_mean, dist=\"chi2\", sparams=(len(control_mean)-1), plot = plt)"
   ]
  },
  {
   "cell_type": "markdown",
   "metadata": {},
   "source": [
    "5.\n",
    "Одним из возможных аналогов t-критерия, которым можно воспрользоваться, является тест Манна-Уитни. На достаточно обширном классе распределений он является асимптотически более эффективным, чем t-критерий, и при этом не требует параметрических предположений о характере распределения.\n",
    "\n",
    "Разделите выборку на две части, соответствующие control и exp группам. Преобразуйте данные к виду, чтобы каждому пользователю соответствовало суммарное значение его кликов. С помощью критерия Манна-Уитни проверьте гипотезу о равенстве средних. Что можно сказать о получившемся значении достигаемого уровня значимости ?"
   ]
  },
  {
   "cell_type": "code",
   "execution_count": 33,
   "metadata": {},
   "outputs": [
    {
     "data": {
      "text/plain": [
       "(284392, 281450)"
      ]
     },
     "execution_count": 33,
     "metadata": {},
     "output_type": "execute_result"
    }
   ],
   "source": [
    "control_data = ab_data[ab_data['slot'] == 'control']\n",
    "exp_data = ab_data[ab_data['slot'] == 'exp']\n",
    "\n",
    "control_user_cl = control_data.groupby('userID').n_clicks.sum()\n",
    "exp_user_cl = exp_data.groupby('userID').n_clicks.sum()\n",
    "\n",
    "len(control_user_cl), len(exp_user_cl)"
   ]
  },
  {
   "cell_type": "code",
   "execution_count": 34,
   "metadata": {},
   "outputs": [],
   "source": [
    "from scipy.stats import mannwhitneyu"
   ]
  },
  {
   "cell_type": "code",
   "execution_count": 36,
   "metadata": {},
   "outputs": [
    {
     "name": "stdout",
     "output_type": "stream",
     "text": [
      "Statistics=38901259929.000000, p=0.000000\n"
     ]
    }
   ],
   "source": [
    "stat, p = mannwhitneyu(control_user_cl, exp_user_cl)\n",
    "print('Statistics=%f, p=%f' % (stat, p))"
   ]
  },
  {
   "cell_type": "markdown",
   "metadata": {},
   "source": [
    "6.\n",
    "Проверьте, для какого из браузеров наиболее сильно выражено отличие между количеством кликов в контрольной и экспериментальной группах.\n",
    "\n",
    "Для этого примените для каждого из срезов (по каждому из уникальных значений столбца browser) критерий Манна-Уитни между control и exp группами и сделайте поправку Холма-Бонферрони на множественную проверку с $\\alpha$=0.05.\n",
    "\n",
    "Какое заключение можно сделать исходя из полученных результатов ?\n",
    "\n",
    "В качестве ответа введите количество незначимых изменений с точки зрения результатов, полученных после введения коррекции."
   ]
  },
  {
   "cell_type": "code",
   "execution_count": 81,
   "metadata": {},
   "outputs": [
    {
     "data": {
      "text/plain": [
       "(284554, 281580)"
      ]
     },
     "execution_count": 81,
     "metadata": {},
     "output_type": "execute_result"
    }
   ],
   "source": [
    "control_user_br = ab_data[ab_data['slot'] == 'control']\n",
    "exp_user_br = ab_data[ab_data['slot'] == 'exp']\n",
    "\n",
    "len(control_user_br), len(exp_user_br)"
   ]
  },
  {
   "cell_type": "code",
   "execution_count": 95,
   "metadata": {},
   "outputs": [
    {
     "data": {
      "text/plain": [
       "[0.16493530767704329,\n",
       " 1.2219033063170227e-95,\n",
       " 0.2923599574344776,\n",
       " 0.4345606087024535,\n",
       " 0.2908339259636146,\n",
       " 0.06745842337310633]"
      ]
     },
     "execution_count": 95,
     "metadata": {},
     "output_type": "execute_result"
    }
   ],
   "source": [
    "p_value = []\n",
    "for col in list(control_user_br.browser.unique()):\n",
    "    stat, p = mannwhitneyu(control_user_br[(control_user_br['browser'] == col) & (control_user_br['n_clicks'] != 0)].n_clicks, \n",
    "                           exp_user_br[(exp_user_br['browser'] == col) & (exp_user_br['n_clicks'] != 0)].n_clicks)\n",
    "    p_value.append(p)\n",
    "    \n",
    "p_value"
   ]
  },
  {
   "cell_type": "code",
   "execution_count": 98,
   "metadata": {},
   "outputs": [
    {
     "data": {
      "text/plain": [
       "[0.9896118460622597, 7.331419837902136e-95, 1.0, 1.0, 1.0, 0.404750540238638]"
      ]
     },
     "execution_count": 98,
     "metadata": {},
     "output_type": "execute_result"
    }
   ],
   "source": [
    "from statsmodels.stats.multitest import multipletests\n",
    "reject, p_adjusted, _, _ = multipletests(p_value, alpha=0.05, method='bonferroni')\n",
    "list(p_adjusted)"
   ]
  },
  {
   "cell_type": "markdown",
   "metadata": {},
   "source": [
    "7.\n",
    "Для каждого браузера в каждой из двух групп (control и exp) посчитайте долю запросов, в которых пользователь не кликнул ни разу. Это можно сделать, поделив сумму значений n_nonclk_queries на сумму значений n_queries. Умножив это значение на 100, получим процент некликнутых запросов, который можно легче проинтерпретировать.\n",
    "\n",
    "Сходятся ли результаты проведенного Вами анализа с показателем процента некликнутых запросов ? Отметьте все верные утверждения."
   ]
  },
  {
   "cell_type": "code",
   "execution_count": null,
   "metadata": {},
   "outputs": [],
   "source": [
    "control_click = sum(ab_data[ab_data['slot'] == 'control'].n_clicks)\n",
    "exp_click = sum(ab_data[ab_data['slot'] == 'exp'].n_clicks)\n",
    "answer_1 = round((exp_click*100/control_click - 100), 3)\n",
    "answer_1"
   ]
  },
  {
   "cell_type": "code",
   "execution_count": 107,
   "metadata": {},
   "outputs": [
    {
     "data": {
      "text/html": [
       "<div>\n",
       "<style scoped>\n",
       "    .dataframe tbody tr th:only-of-type {\n",
       "        vertical-align: middle;\n",
       "    }\n",
       "\n",
       "    .dataframe tbody tr th {\n",
       "        vertical-align: top;\n",
       "    }\n",
       "\n",
       "    .dataframe thead th {\n",
       "        text-align: right;\n",
       "    }\n",
       "</style>\n",
       "<table border=\"1\" class=\"dataframe\">\n",
       "  <thead>\n",
       "    <tr style=\"text-align: right;\">\n",
       "      <th></th>\n",
       "      <th>browser</th>\n",
       "      <th>control</th>\n",
       "      <th>exp</th>\n",
       "    </tr>\n",
       "  </thead>\n",
       "  <tbody>\n",
       "    <tr>\n",
       "      <th>0</th>\n",
       "      <td>Browser #2</td>\n",
       "      <td>245.412273</td>\n",
       "      <td>44.982747</td>\n",
       "    </tr>\n",
       "    <tr>\n",
       "      <th>1</th>\n",
       "      <td>Browser #4</td>\n",
       "      <td>131.000942</td>\n",
       "      <td>45.142942</td>\n",
       "    </tr>\n",
       "    <tr>\n",
       "      <th>2</th>\n",
       "      <td>Browser #14</td>\n",
       "      <td>496.296402</td>\n",
       "      <td>43.755617</td>\n",
       "    </tr>\n",
       "    <tr>\n",
       "      <th>3</th>\n",
       "      <td>Browser #17</td>\n",
       "      <td>665.141369</td>\n",
       "      <td>36.937413</td>\n",
       "    </tr>\n",
       "    <tr>\n",
       "      <th>4</th>\n",
       "      <td>Browser #20</td>\n",
       "      <td>717.215822</td>\n",
       "      <td>38.977376</td>\n",
       "    </tr>\n",
       "    <tr>\n",
       "      <th>5</th>\n",
       "      <td>Browser #22</td>\n",
       "      <td>178.813205</td>\n",
       "      <td>39.853947</td>\n",
       "    </tr>\n",
       "  </tbody>\n",
       "</table>\n",
       "</div>"
      ],
      "text/plain": [
       "       browser     control        exp\n",
       "0   Browser #2  245.412273  44.982747\n",
       "1   Browser #4  131.000942  45.142942\n",
       "2  Browser #14  496.296402  43.755617\n",
       "3  Browser #17  665.141369  36.937413\n",
       "4  Browser #20  717.215822  38.977376\n",
       "5  Browser #22  178.813205  39.853947"
      ]
     },
     "execution_count": 107,
     "metadata": {},
     "output_type": "execute_result"
    }
   ],
   "source": [
    "querries = pd.DataFrame(columns = ['browser', 'control', 'exp'])\n",
    "for i, col in enumerate(list(ab_data.browser.unique())):\n",
    "    control_nonq_click = sum(ab_data[(ab_data['slot'] == 'control') & (ab_data['browser'] == col)].n_nonclk_queries)\n",
    "    control_q_click = sum(ab_data[(ab_data['slot'] == 'control') & (ab_data['browser'] == col)].n_queries)\n",
    "\n",
    "    exp_nonq_click = sum(ab_data[(ab_data['slot'] == 'exp') & (ab_data['browser'] == col)].n_nonclk_queries)\n",
    "    exp_q_click = sum(ab_data[(ab_data['slot'] == 'exp') & (ab_data['browser'] == col)].n_queries)\n",
    "    control_q = control_non_click*100/control_q_click\n",
    "    exp_q = exp_nonq_click*100/exp_q_click\n",
    "    querries.loc[i] = [col, control_q, exp_q]\n",
    "\n",
    "querries"
   ]
  },
  {
   "cell_type": "code",
   "execution_count": null,
   "metadata": {},
   "outputs": [],
   "source": []
  }
 ],
 "metadata": {
  "kernelspec": {
   "display_name": "Python 3",
   "language": "python",
   "name": "python3"
  },
  "language_info": {
   "codemirror_mode": {
    "name": "ipython",
    "version": 3
   },
   "file_extension": ".py",
   "mimetype": "text/x-python",
   "name": "python",
   "nbconvert_exporter": "python",
   "pygments_lexer": "ipython3",
   "version": "3.8.5"
  }
 },
 "nbformat": 4,
 "nbformat_minor": 4
}
