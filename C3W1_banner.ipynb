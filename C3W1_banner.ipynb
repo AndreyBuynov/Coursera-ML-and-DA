{
 "cells": [
  {
   "cell_type": "markdown",
   "metadata": {},
   "source": [
    "Представим, что международное круизное агентство Carnival Cruise Line решило себя разрекламировать с помощью баннеров и обратилось для этого к вам. Чтобы протестировать, велика ли от таких баннеров польза, их будет размещено всего 20 штук по всему миру. Вам надо выбрать 20 таких локаций для размещения, чтобы польза была большой и агентство продолжило с вами сотрудничать.\n",
    "\n",
    "Агентство крупное, и у него есть несколько офисов по всему миру. Вблизи этих офисов оно и хочет разместить баннеры — легче договариваться и проверять результат. Также эти места должны быть популярны среди туристов.\n",
    "\n",
    "Для поиска оптимальных мест воспользуемся базой данных крупнейшей социальной сети, основанной на локациях — Foursquare.\n",
    "\n",
    "Часть открытых данных есть, например, на сайте archive.org:\n",
    "\n",
    "https://archive.org/details/201309_foursquare_dataset_umn\n",
    "\n",
    "Скачаем любым удобным образом архив fsq.zip с этой страницы.\n",
    "\n",
    "Нас будет интересовать файл checkins.dat. Открыв его, увидим следующую структуру:"
   ]
  },
  {
   "cell_type": "code",
   "execution_count": 3,
   "metadata": {},
   "outputs": [
    {
     "name": "stdout",
     "output_type": "stream",
     "text": [
      "   id    | user_id | venue_id |     latitude      |     longitude     |     created_at      \n",
      "\n",
      "---------+---------+----------+-------------------+-------------------+---------------------\n",
      "\n",
      "  984301 | 2041916 |     5222 |                   |                   | 2012-04-21 17:39:01\n",
      "\n",
      "  984222 |   15824 |     5222 |        38.8951118 |       -77.0363658 | 2012-04-21 17:43:47\n",
      "\n",
      "  984315 | 1764391 |     5222 |                   |                   | 2012-04-21 17:37:18\n",
      "\n",
      "  984234 |   44652 |     5222 |         33.800745 |         -84.41052 | 2012-04-21 17:43:43\n",
      "\n",
      "  984249 | 2146840 |     5222 |                   |                   | 2012-04-21 17:42:58\n",
      "\n",
      "  984268 | 2146843 |     5222 |                   |                   | 2012-04-21 17:42:38\n",
      "\n",
      "  984281 | 2146846 |     5222 |                   |                   | 2012-04-21 17:39:40\n",
      "\n",
      "  984291 |  105054 |     5222 |        45.5234515 |      -122.6762071 | 2012-04-21 17:39:22\n",
      "\n"
     ]
    }
   ],
   "source": [
    "file = open('checkins.dat', 'r')\n",
    "for i in range(10):\n",
    "    f = file.readline()\n",
    "    print(f)\n",
    "\n",
    "file.close()"
   ]
  },
  {
   "cell_type": "markdown",
   "metadata": {},
   "source": [
    "Для удобной работы с этим документом преобразуем его к формату csv, удалив строки, не содержащие координат — они неинформативны для нас:"
   ]
  },
  {
   "cell_type": "code",
   "execution_count": 102,
   "metadata": {},
   "outputs": [],
   "source": [
    "import pandas as pd\n",
    "import numpy as np"
   ]
  },
  {
   "cell_type": "code",
   "execution_count": 65,
   "metadata": {},
   "outputs": [
    {
     "name": "stderr",
     "output_type": "stream",
     "text": [
      "C:\\Anaconda3\\lib\\site-packages\\IPython\\core\\interactiveshell.py:3072: DtypeWarning: Columns (0) have mixed types.Specify dtype option on import or set low_memory=False.\n",
      "  interactivity=interactivity, compiler=compiler, result=result)\n"
     ]
    }
   ],
   "source": [
    "data = pd.read_csv('checkins.dat', sep='|')"
   ]
  },
  {
   "cell_type": "code",
   "execution_count": 66,
   "metadata": {},
   "outputs": [
    {
     "data": {
      "text/plain": [
       "Index(['   id    ', ' user_id ', ' venue_id ', '     latitude      ',\n",
       "       '     longitude     ', '     created_at      '],\n",
       "      dtype='object')"
      ]
     },
     "execution_count": 66,
     "metadata": {},
     "output_type": "execute_result"
    }
   ],
   "source": [
    "data.columns\n",
    "#все наименования содержат кучу пробелов, надо их удалить"
   ]
  },
  {
   "cell_type": "code",
   "execution_count": 71,
   "metadata": {},
   "outputs": [],
   "source": [
    "columns_list = list(data.columns)\n",
    "for i in range(len(columns_list)):\n",
    "    columns_list[i] = columns_list[i].strip()\n",
    "\n",
    "data.columns = columns_list\n",
    "data = data.dropna() #сразу удалим первые строки не являющиеся данными с Null значениями"
   ]
  },
  {
   "cell_type": "code",
   "execution_count": 72,
   "metadata": {},
   "outputs": [
    {
     "name": "stderr",
     "output_type": "stream",
     "text": [
      "C:\\Anaconda3\\lib\\site-packages\\ipykernel_launcher.py:1: SettingWithCopyWarning: \n",
      "A value is trying to be set on a copy of a slice from a DataFrame.\n",
      "Try using .loc[row_indexer,col_indexer] = value instead\n",
      "\n",
      "See the caveats in the documentation: https://pandas.pydata.org/pandas-docs/stable/user_guide/indexing.html#returning-a-view-versus-a-copy\n",
      "  \"\"\"Entry point for launching an IPython kernel.\n",
      "C:\\Anaconda3\\lib\\site-packages\\ipykernel_launcher.py:2: SettingWithCopyWarning: \n",
      "A value is trying to be set on a copy of a slice from a DataFrame.\n",
      "Try using .loc[row_indexer,col_indexer] = value instead\n",
      "\n",
      "See the caveats in the documentation: https://pandas.pydata.org/pandas-docs/stable/user_guide/indexing.html#returning-a-view-versus-a-copy\n",
      "  \n"
     ]
    }
   ],
   "source": [
    "data['longitude'] = data['longitude'].apply(lambda x: x.strip()) #обрезаем пробелы в данных долготы\n",
    "data['latitude'] = data['latitude'].apply(lambda x: x.strip()) #обрезаем пробелы в данных широты\n",
    "data = data.drop(data[data['latitude'] == ''].index) #удаляем все строки где отсутствуют данные о локации"
   ]
  },
  {
   "cell_type": "markdown",
   "metadata": {},
   "source": [
    "С помощью pandas построим DataFrame и убедимся, что все 396634 строки с координатами считаны успешно."
   ]
  },
  {
   "cell_type": "code",
   "execution_count": 73,
   "metadata": {},
   "outputs": [
    {
     "data": {
      "text/html": [
       "<div>\n",
       "<style scoped>\n",
       "    .dataframe tbody tr th:only-of-type {\n",
       "        vertical-align: middle;\n",
       "    }\n",
       "\n",
       "    .dataframe tbody tr th {\n",
       "        vertical-align: top;\n",
       "    }\n",
       "\n",
       "    .dataframe thead th {\n",
       "        text-align: right;\n",
       "    }\n",
       "</style>\n",
       "<table border=\"1\" class=\"dataframe\">\n",
       "  <thead>\n",
       "    <tr style=\"text-align: right;\">\n",
       "      <th></th>\n",
       "      <th>id</th>\n",
       "      <th>user_id</th>\n",
       "      <th>venue_id</th>\n",
       "      <th>latitude</th>\n",
       "      <th>longitude</th>\n",
       "      <th>created_at</th>\n",
       "    </tr>\n",
       "  </thead>\n",
       "  <tbody>\n",
       "    <tr>\n",
       "      <th>2</th>\n",
       "      <td>984222</td>\n",
       "      <td>15824.0</td>\n",
       "      <td>5222.0</td>\n",
       "      <td>38.8951118</td>\n",
       "      <td>-77.0363658</td>\n",
       "      <td>2012-04-21 17:43:47</td>\n",
       "    </tr>\n",
       "    <tr>\n",
       "      <th>4</th>\n",
       "      <td>984234</td>\n",
       "      <td>44652.0</td>\n",
       "      <td>5222.0</td>\n",
       "      <td>33.800745</td>\n",
       "      <td>-84.41052</td>\n",
       "      <td>2012-04-21 17:43:43</td>\n",
       "    </tr>\n",
       "    <tr>\n",
       "      <th>8</th>\n",
       "      <td>984291</td>\n",
       "      <td>105054.0</td>\n",
       "      <td>5222.0</td>\n",
       "      <td>45.5234515</td>\n",
       "      <td>-122.6762071</td>\n",
       "      <td>2012-04-21 17:39:22</td>\n",
       "    </tr>\n",
       "    <tr>\n",
       "      <th>10</th>\n",
       "      <td>984318</td>\n",
       "      <td>2146539.0</td>\n",
       "      <td>5222.0</td>\n",
       "      <td>40.764462</td>\n",
       "      <td>-111.904565</td>\n",
       "      <td>2012-04-21 17:35:46</td>\n",
       "    </tr>\n",
       "    <tr>\n",
       "      <th>11</th>\n",
       "      <td>984232</td>\n",
       "      <td>93870.0</td>\n",
       "      <td>380645.0</td>\n",
       "      <td>33.4483771</td>\n",
       "      <td>-112.0740373</td>\n",
       "      <td>2012-04-21 17:38:18</td>\n",
       "    </tr>\n",
       "    <tr>\n",
       "      <th>...</th>\n",
       "      <td>...</td>\n",
       "      <td>...</td>\n",
       "      <td>...</td>\n",
       "      <td>...</td>\n",
       "      <td>...</td>\n",
       "      <td>...</td>\n",
       "    </tr>\n",
       "    <tr>\n",
       "      <th>1021960</th>\n",
       "      <td>955561</td>\n",
       "      <td>626076.0</td>\n",
       "      <td>20073.0</td>\n",
       "      <td>40.8501002</td>\n",
       "      <td>-73.8662464</td>\n",
       "      <td>2012-04-13 09:56:48</td>\n",
       "    </tr>\n",
       "    <tr>\n",
       "      <th>1021961</th>\n",
       "      <td>955892</td>\n",
       "      <td>674797.0</td>\n",
       "      <td>2297.0</td>\n",
       "      <td>33.7489954</td>\n",
       "      <td>-84.3879824</td>\n",
       "      <td>2012-04-13 10:56:03</td>\n",
       "    </tr>\n",
       "    <tr>\n",
       "      <th>1021962</th>\n",
       "      <td>956377</td>\n",
       "      <td>845102.0</td>\n",
       "      <td>11195.0</td>\n",
       "      <td>42.7653662</td>\n",
       "      <td>-71.467566</td>\n",
       "      <td>2012-04-13 12:08:45</td>\n",
       "    </tr>\n",
       "    <tr>\n",
       "      <th>1021963</th>\n",
       "      <td>956119</td>\n",
       "      <td>1139114.0</td>\n",
       "      <td>29488.0</td>\n",
       "      <td>42.439479</td>\n",
       "      <td>-83.7438303</td>\n",
       "      <td>2012-04-13 11:36:44</td>\n",
       "    </tr>\n",
       "    <tr>\n",
       "      <th>1021965</th>\n",
       "      <td>956733</td>\n",
       "      <td>960666.0</td>\n",
       "      <td>60.0</td>\n",
       "      <td>42.331427</td>\n",
       "      <td>-83.0457538</td>\n",
       "      <td>2012-04-13 21:56:19</td>\n",
       "    </tr>\n",
       "  </tbody>\n",
       "</table>\n",
       "<p>396634 rows × 6 columns</p>\n",
       "</div>"
      ],
      "text/plain": [
       "                id    user_id  venue_id    latitude     longitude  \\\n",
       "2          984222     15824.0    5222.0  38.8951118   -77.0363658   \n",
       "4          984234     44652.0    5222.0   33.800745     -84.41052   \n",
       "8          984291    105054.0    5222.0  45.5234515  -122.6762071   \n",
       "10         984318   2146539.0    5222.0   40.764462   -111.904565   \n",
       "11         984232     93870.0  380645.0  33.4483771  -112.0740373   \n",
       "...            ...        ...       ...         ...           ...   \n",
       "1021960    955561    626076.0   20073.0  40.8501002   -73.8662464   \n",
       "1021961    955892    674797.0    2297.0  33.7489954   -84.3879824   \n",
       "1021962    956377    845102.0   11195.0  42.7653662    -71.467566   \n",
       "1021963    956119   1139114.0   29488.0   42.439479   -83.7438303   \n",
       "1021965    956733    960666.0      60.0   42.331427   -83.0457538   \n",
       "\n",
       "                   created_at  \n",
       "2         2012-04-21 17:43:47  \n",
       "4         2012-04-21 17:43:43  \n",
       "8         2012-04-21 17:39:22  \n",
       "10        2012-04-21 17:35:46  \n",
       "11        2012-04-21 17:38:18  \n",
       "...                       ...  \n",
       "1021960   2012-04-13 09:56:48  \n",
       "1021961   2012-04-13 10:56:03  \n",
       "1021962   2012-04-13 12:08:45  \n",
       "1021963   2012-04-13 11:36:44  \n",
       "1021965   2012-04-13 21:56:19  \n",
       "\n",
       "[396634 rows x 6 columns]"
      ]
     },
     "execution_count": 73,
     "metadata": {},
     "output_type": "execute_result"
    }
   ],
   "source": [
    "#Получили такую таблицу\n",
    "data"
   ]
  },
  {
   "cell_type": "markdown",
   "metadata": {},
   "source": [
    "Теперь необходимо кластеризовать данные координаты, чтобы выявить центры скоплений туристов. Поскольку баннеры имеют сравнительно небольшую площадь действия, нам нужен алгоритм, позволяющий ограничить размер кластера и не зависящий от количества кластеров.\n",
    "\n",
    "Эта задача — хороший повод познакомиться с алгоритмом MeanShift, который мы обошли стороной в основной части лекций. Его описание при желании можно посмотреть в sklearn user guide, а чуть позже появится дополнительное видео с обзором этого и некоторых других алгоритмов кластеризации. Используйте MeanShift, указав bandwidth=0.1, что в переводе из градусов в метры колеблется примерно от 5 до 10 км в средних широтах.\n",
    "\n",
    "#### Примечание:\n",
    "на 396634 строках кластеризация будет работать долго. Быть очень терпеливым не возбраняется — результат от этого только улучшится. Но для того, чтобы сдать задание, понадобится сабсет из первых 100 тысяч строк. Это компромисс между качеством и затраченным временем. Обучение алгоритма на всём датасете занимает около часа, а на 100 тыс. строк — примерно 2 минуты, однако этого достаточно для получения корректных результатов.\n",
    "\n",
    "Некоторые из получившихся кластеров содержат слишком мало точек — такие кластеры не интересны рекламодателям. Поэтому надо определить, какие из кластеров содержат, скажем, больше 15 элементов. Центры этих кластеров и являются оптимальными для размещения.\n",
    "\n",
    "При желании увидеть получившиеся результаты на карте можно передать центры получившихся кластеров в один из инструментов визуализации. Например, сайт mapcustomizer.com имеет функцию Bulk Entry, куда можно вставить центры полученных кластеров в формате:"
   ]
  },
  {
   "cell_type": "code",
   "execution_count": 83,
   "metadata": {},
   "outputs": [
    {
     "data": {
      "text/plain": [
       "(100000, 6)"
      ]
     },
     "execution_count": 83,
     "metadata": {},
     "output_type": "execute_result"
    }
   ],
   "source": [
    "test_data = data.head(100000) #берем первые 100000 строк для кластеризации\n",
    "test_data.shape"
   ]
  },
  {
   "cell_type": "code",
   "execution_count": 85,
   "metadata": {},
   "outputs": [],
   "source": [
    "from sklearn.cluster import MeanShift\n",
    "ms = MeanShift(bandwidth=0.1)"
   ]
  },
  {
   "cell_type": "code",
   "execution_count": 86,
   "metadata": {},
   "outputs": [
    {
     "data": {
      "text/plain": [
       "MeanShift(bandwidth=0.1)"
      ]
     },
     "execution_count": 86,
     "metadata": {},
     "output_type": "execute_result"
    }
   ],
   "source": [
    "ms.fit(test_data.loc[:,'latitude':'longitude']) #обучаем на данных о геолокации"
   ]
  },
  {
   "cell_type": "code",
   "execution_count": 110,
   "metadata": {},
   "outputs": [
    {
     "name": "stdout",
     "output_type": "stream",
     "text": [
      "[   0    1    2 ... 3228 3229 3230] [12506  4692  3994 ...     1     1     1]\n"
     ]
    }
   ],
   "source": [
    "labels = ms.labels_ #все наши метки\n",
    "cluster_centers = ms.cluster_centers_ # центры полученных кластеров\n",
    "n_clusters_ = len(cluster_centers) # количество полученных кластеров\n",
    "\n",
    "val, counts = np.unique(labels, return_counts=True)\n",
    "print(val, counts)"
   ]
  },
  {
   "cell_type": "code",
   "execution_count": 115,
   "metadata": {},
   "outputs": [
    {
     "data": {
      "text/plain": [
       "3231"
      ]
     },
     "execution_count": 115,
     "metadata": {},
     "output_type": "execute_result"
    }
   ],
   "source": [
    "len(cluster_centers)"
   ]
  },
  {
   "cell_type": "code",
   "execution_count": 130,
   "metadata": {},
   "outputs": [],
   "source": [
    "new_cluster_centers = []\n",
    "j = 0\n",
    "for i in range(len(counts)):\n",
    "    if counts[i] > 15:\n",
    "        new_cluster_centers.append(cluster_centers[i]) # в новый список центров добавляем только те, где больше 15 элементов\n",
    "        j += 1"
   ]
  },
  {
   "cell_type": "code",
   "execution_count": 129,
   "metadata": {},
   "outputs": [
    {
     "data": {
      "text/plain": [
       "592"
      ]
     },
     "execution_count": 129,
     "metadata": {},
     "output_type": "execute_result"
    }
   ],
   "source": [
    "len(new_cluster_centers) #количество новых центров уменьшилось"
   ]
  },
  {
   "cell_type": "markdown",
   "metadata": {},
   "source": [
    "Как мы помним, 20 баннеров надо разместить близ офисов компании. Найдем на Google Maps по запросу Carnival Cruise Line адреса всех офисов:"
   ]
  },
  {
   "cell_type": "markdown",
   "metadata": {},
   "source": [
    "33.751277, -118.188740 (Los Angeles)\n",
    "\n",
    "25.867736, -80.324116 (Miami)\n",
    "\n",
    "51.503016, -0.075479 (London)\n",
    "\n",
    "52.378894, 4.885084 (Amsterdam)\n",
    "\n",
    "39.366487, 117.036146 (Beijing)\n",
    "\n",
    "-33.868457, 151.205134 (Sydney)"
   ]
  },
  {
   "cell_type": "code",
   "execution_count": 132,
   "metadata": {},
   "outputs": [],
   "source": [
    "office_list = [[33.751277, -118.188740], #(Los Angeles)\n",
    "              [25.867736, -80.324116], # (Miami)\n",
    "              [51.503016, -0.075479], # (London)\n",
    "              [52.378894, 4.885084], # (Amsterdam)\n",
    "              [39.366487, 117.036146], # (Beijing)\n",
    "              [-33.868457, 151.205134]] # (Sydney)"
   ]
  },
  {
   "cell_type": "markdown",
   "metadata": {},
   "source": [
    "Осталось определить 20 ближайших к ним центров кластеров. Т.е. посчитать дистанцию до ближайшего офиса для каждой точки и выбрать 20 с наименьшим значением.\n",
    "\n",
    "Примечание: при подсчете расстояний и в кластеризации можно пренебречь тем, что Земля круглая, так как в точках, расположенных близко друг к другу погрешность мала, а в остальных точках значение достаточно велико.\n",
    "\n",
    "Для сдачи задания выберите из получившихся 20 центров тот, который наименее удален от ближайшего к нему офиса. Ответ в этом задании — широта и долгота этого центра, записанные через пробел."
   ]
  },
  {
   "cell_type": "code",
   "execution_count": 133,
   "metadata": {},
   "outputs": [],
   "source": [
    "# формула расчета расстояния будет обычной евклидовой метрикой\n",
    "def get_dist(office_co, ms_co):\n",
    "    return np.sqrt((office_co[0] - ms_co[0]) ** 2 + (office_co[1] - ms_co[1]) ** 2)"
   ]
  },
  {
   "cell_type": "code",
   "execution_count": 137,
   "metadata": {},
   "outputs": [],
   "source": [
    "best_dist = pd.DataFrame(columns = ['min_dist', 'latitude', 'longitude'])\n",
    "for i in range(len(new_cluster_centers)):\n",
    "    min_dist = []\n",
    "    for j in range(len(office_list)):\n",
    "        min_dist.append(get_dist(new_cluster_centers[i], office_list[j]))\n",
    "        \n",
    "    best_dist.loc[i] = [min(min_dist), new_cluster_centers[i][0], new_cluster_centers[i][1]]"
   ]
  },
  {
   "cell_type": "code",
   "execution_count": 138,
   "metadata": {},
   "outputs": [
    {
     "data": {
      "text/html": [
       "<div>\n",
       "<style scoped>\n",
       "    .dataframe tbody tr th:only-of-type {\n",
       "        vertical-align: middle;\n",
       "    }\n",
       "\n",
       "    .dataframe tbody tr th {\n",
       "        vertical-align: top;\n",
       "    }\n",
       "\n",
       "    .dataframe thead th {\n",
       "        text-align: right;\n",
       "    }\n",
       "</style>\n",
       "<table border=\"1\" class=\"dataframe\">\n",
       "  <thead>\n",
       "    <tr style=\"text-align: right;\">\n",
       "      <th></th>\n",
       "      <th>min_dist</th>\n",
       "      <th>latitude</th>\n",
       "      <th>longitude</th>\n",
       "    </tr>\n",
       "  </thead>\n",
       "  <tbody>\n",
       "    <tr>\n",
       "      <th>0</th>\n",
       "      <td>16.143720</td>\n",
       "      <td>40.717716</td>\n",
       "      <td>-73.991835</td>\n",
       "    </tr>\n",
       "    <tr>\n",
       "      <th>1</th>\n",
       "      <td>6.193959</td>\n",
       "      <td>33.449438</td>\n",
       "      <td>-112.002140</td>\n",
       "    </tr>\n",
       "    <tr>\n",
       "      <th>2</th>\n",
       "      <td>6.294241</td>\n",
       "      <td>33.446380</td>\n",
       "      <td>-111.901888</td>\n",
       "    </tr>\n",
       "    <tr>\n",
       "      <th>3</th>\n",
       "      <td>17.598580</td>\n",
       "      <td>41.878244</td>\n",
       "      <td>-87.629843</td>\n",
       "    </tr>\n",
       "    <tr>\n",
       "      <th>4</th>\n",
       "      <td>5.772048</td>\n",
       "      <td>37.688682</td>\n",
       "      <td>-122.409330</td>\n",
       "    </tr>\n",
       "    <tr>\n",
       "      <th>...</th>\n",
       "      <td>...</td>\n",
       "      <td>...</td>\n",
       "      <td>...</td>\n",
       "    </tr>\n",
       "    <tr>\n",
       "      <th>587</th>\n",
       "      <td>17.161408</td>\n",
       "      <td>41.577224</td>\n",
       "      <td>-73.415723</td>\n",
       "    </tr>\n",
       "    <tr>\n",
       "      <th>588</th>\n",
       "      <td>16.733992</td>\n",
       "      <td>41.220398</td>\n",
       "      <td>-73.666619</td>\n",
       "    </tr>\n",
       "    <tr>\n",
       "      <th>589</th>\n",
       "      <td>17.721330</td>\n",
       "      <td>41.618532</td>\n",
       "      <td>-88.445568</td>\n",
       "    </tr>\n",
       "    <tr>\n",
       "      <th>590</th>\n",
       "      <td>13.745649</td>\n",
       "      <td>39.249469</td>\n",
       "      <td>-77.182127</td>\n",
       "    </tr>\n",
       "    <tr>\n",
       "      <th>591</th>\n",
       "      <td>13.245134</td>\n",
       "      <td>38.658779</td>\n",
       "      <td>-76.885687</td>\n",
       "    </tr>\n",
       "  </tbody>\n",
       "</table>\n",
       "<p>592 rows × 3 columns</p>\n",
       "</div>"
      ],
      "text/plain": [
       "      min_dist   latitude   longitude\n",
       "0    16.143720  40.717716  -73.991835\n",
       "1     6.193959  33.449438 -112.002140\n",
       "2     6.294241  33.446380 -111.901888\n",
       "3    17.598580  41.878244  -87.629843\n",
       "4     5.772048  37.688682 -122.409330\n",
       "..         ...        ...         ...\n",
       "587  17.161408  41.577224  -73.415723\n",
       "588  16.733992  41.220398  -73.666619\n",
       "589  17.721330  41.618532  -88.445568\n",
       "590  13.745649  39.249469  -77.182127\n",
       "591  13.245134  38.658779  -76.885687\n",
       "\n",
       "[592 rows x 3 columns]"
      ]
     },
     "execution_count": 138,
     "metadata": {},
     "output_type": "execute_result"
    }
   ],
   "source": [
    "best_dist"
   ]
  },
  {
   "cell_type": "code",
   "execution_count": 140,
   "metadata": {},
   "outputs": [
    {
     "data": {
      "text/html": [
       "<div>\n",
       "<style scoped>\n",
       "    .dataframe tbody tr th:only-of-type {\n",
       "        vertical-align: middle;\n",
       "    }\n",
       "\n",
       "    .dataframe tbody tr th {\n",
       "        vertical-align: top;\n",
       "    }\n",
       "\n",
       "    .dataframe thead th {\n",
       "        text-align: right;\n",
       "    }\n",
       "</style>\n",
       "<table border=\"1\" class=\"dataframe\">\n",
       "  <thead>\n",
       "    <tr style=\"text-align: right;\">\n",
       "      <th></th>\n",
       "      <th>min_dist</th>\n",
       "      <th>latitude</th>\n",
       "      <th>longitude</th>\n",
       "    </tr>\n",
       "  </thead>\n",
       "  <tbody>\n",
       "    <tr>\n",
       "      <th>417</th>\n",
       "      <td>0.007835</td>\n",
       "      <td>-33.860630</td>\n",
       "      <td>151.204776</td>\n",
       "    </tr>\n",
       "    <tr>\n",
       "      <th>369</th>\n",
       "      <td>0.009353</td>\n",
       "      <td>52.372964</td>\n",
       "      <td>4.892317</td>\n",
       "    </tr>\n",
       "    <tr>\n",
       "      <th>416</th>\n",
       "      <td>0.022674</td>\n",
       "      <td>25.845672</td>\n",
       "      <td>-80.318891</td>\n",
       "    </tr>\n",
       "    <tr>\n",
       "      <th>58</th>\n",
       "      <td>0.050058</td>\n",
       "      <td>51.502991</td>\n",
       "      <td>-0.125537</td>\n",
       "    </tr>\n",
       "    <tr>\n",
       "      <th>51</th>\n",
       "      <td>0.070848</td>\n",
       "      <td>33.809878</td>\n",
       "      <td>-118.148924</td>\n",
       "    </tr>\n",
       "    <tr>\n",
       "      <th>29</th>\n",
       "      <td>0.134109</td>\n",
       "      <td>25.785812</td>\n",
       "      <td>-80.217938</td>\n",
       "    </tr>\n",
       "    <tr>\n",
       "      <th>167</th>\n",
       "      <td>0.167406</td>\n",
       "      <td>25.705350</td>\n",
       "      <td>-80.283429</td>\n",
       "    </tr>\n",
       "    <tr>\n",
       "      <th>92</th>\n",
       "      <td>0.188876</td>\n",
       "      <td>26.010098</td>\n",
       "      <td>-80.199991</td>\n",
       "    </tr>\n",
       "    <tr>\n",
       "      <th>87</th>\n",
       "      <td>0.195779</td>\n",
       "      <td>33.888325</td>\n",
       "      <td>-118.048928</td>\n",
       "    </tr>\n",
       "    <tr>\n",
       "      <th>42</th>\n",
       "      <td>0.211811</td>\n",
       "      <td>33.872986</td>\n",
       "      <td>-118.362091</td>\n",
       "    </tr>\n",
       "    <tr>\n",
       "      <th>291</th>\n",
       "      <td>0.222233</td>\n",
       "      <td>33.972575</td>\n",
       "      <td>-118.168371</td>\n",
       "    </tr>\n",
       "    <tr>\n",
       "      <th>320</th>\n",
       "      <td>0.271301</td>\n",
       "      <td>26.138844</td>\n",
       "      <td>-80.334347</td>\n",
       "    </tr>\n",
       "    <tr>\n",
       "      <th>119</th>\n",
       "      <td>0.294979</td>\n",
       "      <td>33.983936</td>\n",
       "      <td>-118.007405</td>\n",
       "    </tr>\n",
       "    <tr>\n",
       "      <th>55</th>\n",
       "      <td>0.302270</td>\n",
       "      <td>26.120863</td>\n",
       "      <td>-80.158907</td>\n",
       "    </tr>\n",
       "    <tr>\n",
       "      <th>27</th>\n",
       "      <td>0.304731</td>\n",
       "      <td>33.817306</td>\n",
       "      <td>-117.891249</td>\n",
       "    </tr>\n",
       "    <tr>\n",
       "      <th>11</th>\n",
       "      <td>0.314884</td>\n",
       "      <td>34.060398</td>\n",
       "      <td>-118.248709</td>\n",
       "    </tr>\n",
       "    <tr>\n",
       "      <th>32</th>\n",
       "      <td>0.338810</td>\n",
       "      <td>33.674303</td>\n",
       "      <td>-117.858789</td>\n",
       "    </tr>\n",
       "    <tr>\n",
       "      <th>159</th>\n",
       "      <td>0.340846</td>\n",
       "      <td>26.200585</td>\n",
       "      <td>-80.250716</td>\n",
       "    </tr>\n",
       "    <tr>\n",
       "      <th>17</th>\n",
       "      <td>0.378688</td>\n",
       "      <td>34.035487</td>\n",
       "      <td>-118.438998</td>\n",
       "    </tr>\n",
       "    <tr>\n",
       "      <th>47</th>\n",
       "      <td>0.386706</td>\n",
       "      <td>34.131460</td>\n",
       "      <td>-118.118012</td>\n",
       "    </tr>\n",
       "  </tbody>\n",
       "</table>\n",
       "</div>"
      ],
      "text/plain": [
       "     min_dist   latitude   longitude\n",
       "417  0.007835 -33.860630  151.204776\n",
       "369  0.009353  52.372964    4.892317\n",
       "416  0.022674  25.845672  -80.318891\n",
       "58   0.050058  51.502991   -0.125537\n",
       "51   0.070848  33.809878 -118.148924\n",
       "29   0.134109  25.785812  -80.217938\n",
       "167  0.167406  25.705350  -80.283429\n",
       "92   0.188876  26.010098  -80.199991\n",
       "87   0.195779  33.888325 -118.048928\n",
       "42   0.211811  33.872986 -118.362091\n",
       "291  0.222233  33.972575 -118.168371\n",
       "320  0.271301  26.138844  -80.334347\n",
       "119  0.294979  33.983936 -118.007405\n",
       "55   0.302270  26.120863  -80.158907\n",
       "27   0.304731  33.817306 -117.891249\n",
       "11   0.314884  34.060398 -118.248709\n",
       "32   0.338810  33.674303 -117.858789\n",
       "159  0.340846  26.200585  -80.250716\n",
       "17   0.378688  34.035487 -118.438998\n",
       "47   0.386706  34.131460 -118.118012"
      ]
     },
     "execution_count": 140,
     "metadata": {},
     "output_type": "execute_result"
    }
   ],
   "source": [
    "best_dist.sort_values('min_dist').head(20)"
   ]
  },
  {
   "cell_type": "markdown",
   "metadata": {},
   "source": [
    "Ответом получаются координаты -33.868457, 151.205134 и это, если сравнить с табличкой данных офисов - город Сидней"
   ]
  }
 ],
 "metadata": {
  "kernelspec": {
   "display_name": "Python 3",
   "language": "python",
   "name": "python3"
  },
  "language_info": {
   "codemirror_mode": {
    "name": "ipython",
    "version": 3
   },
   "file_extension": ".py",
   "mimetype": "text/x-python",
   "name": "python",
   "nbconvert_exporter": "python",
   "pygments_lexer": "ipython3",
   "version": "3.7.7"
  }
 },
 "nbformat": 4,
 "nbformat_minor": 4
}
