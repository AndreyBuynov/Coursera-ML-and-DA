{
 "cells": [
  {
   "cell_type": "markdown",
   "metadata": {},
   "source": [
    "#### Описание задачи"
   ]
  },
  {
   "cell_type": "markdown",
   "metadata": {},
   "source": [
    "Небольшой интернет-магазин попросил вас добавить ранжирование товаров в блок \"Смотрели ранее\" - в нем теперь надо показывать не последние просмотренные пользователем товары, а те товары из просмотренных, которые он наиболее вероятно купит. Качество вашего решения будет оцениваться по количеству покупок в сравнении с прошлым решением в ходе А/В теста, т.к. по доходу от продаж статзначимость будет достигаться дольше из-за разброса цен. Таким образом, ничего заранее не зная про корреляцию оффлайновых и онлайновых метрик качества, в начале проекта вы можете лишь постараться оптимизировать recall@k и precision@k.  \n",
    "\n",
    "Это задание посвящено построению простых бейзлайнов для этой задачи: ранжирование просмотренных товаров по частоте просмотров и по частоте покупок. Эти бейзлайны, с одной стороны, могут помочь вам грубо оценить возможный эффект от ранжирования товаров в блоке - например, чтобы вписать какие-то числа в коммерческое предложение заказчику, а с другой стороны, могут оказаться самым хорошим вариантом, если данных очень мало (недостаточно для обучения даже простых моделей)."
   ]
  },
  {
   "cell_type": "markdown",
   "metadata": {},
   "source": [
    "#### Входные данные"
   ]
  },
  {
   "cell_type": "markdown",
   "metadata": {},
   "source": [
    "Вам дается две выборки с пользовательскими сессиями - id-шниками просмотренных и id-шниками купленных товаров. Одна выборка будет использоваться для обучения (оценки популярностей товаров), а другая - для теста.\n",
    "\n",
    "В файлах записаны сессии по одной в каждой строке. Формат сессии: id просмотренных товаров через , затем идёт ; после чего следуют id купленных товаров (если такие имеются), разделённые запятой. Например, 1,2,3,4; или 1,2,3,4;5,6.\n",
    "\n",
    "Гарантируется, что среди id купленных товаров все различные.\n",
    "\n",
    "#### Важно:\n",
    "\n",
    "* Сессии, в которых пользователь ничего не купил, исключаем из оценки качества.\n",
    "* Если товар не встречался в обучающей выборке, его популярность равна 0.\n",
    "* Рекомендуем разные товары. И их число должно быть не больше, чем количество различных просмотренных пользователем товаров.\n",
    "* Рекомендаций всегда не больше, чем минимум из двух чисел: количество просмотренных пользователем товаров и k в recall@k / precision@k."
   ]
  },
  {
   "cell_type": "markdown",
   "metadata": {},
   "source": [
    "#### Задание\n",
    "\n",
    "1.\n",
    "На обучении постройте частоты появления id в просмотренных и в купленных (id может несколько раз появляться в просмотренных, все появления надо учитывать)\n",
    "\n",
    "2.\n",
    "Реализуйте два алгоритма рекомендаций:\n",
    "* сортировка просмотренных id по популярности (частота появления в просмотренных),\n",
    "* сортировка просмотренных id по покупаемости (частота появления в покупках).\n",
    "\n",
    "\n",
    "3.\n",
    "Для данных алгоритмов выпишите через пробел AverageRecall@1, AveragePrecision@1, AverageRecall@5, AveragePrecision@5 на обучающей и тестовых выборках, округляя до 2 знака после запятой. Это будут ваши ответы в этом задании. Посмотрите, как они соотносятся друг с другом. Где качество получилось выше? Значимо ли это различие?           Обратите внимание на различие качества на обучающей и тестовой           выборке в случае рекомендаций по частотам покупки."
   ]
  },
  {
   "cell_type": "markdown",
   "metadata": {},
   "source": [
    "Если частота одинаковая, то сортировать нужно по возрастанию момента просмотра (чем раньше появился в просмотренных, тем больше приоритет)\n",
    "\n"
   ]
  },
  {
   "cell_type": "markdown",
   "metadata": {},
   "source": [
    "#### Дополнительные вопросы\n",
    "\n",
    "1.\n",
    "Обратите внимание, что при сортировке по покупаемости возникает много товаров с одинаковым рангом - это означает, что значение метрик будет зависеть от того, как мы будем сортировать товары с одинаковым рангом. Попробуйте убедиться, что при изменении сортировки таких товаров recall@k меняется. Подумайте, как оценить минимальное и максимальное значение recall@k в зависимости от правила сортировки.\n",
    "\n",
    "2.\n",
    "Мы обучаемся и тестируемся на полных сессиях (в которых есть все просмотренные за сессию товары). Подумайте, почему полученная нами оценка качества рекомендаций в этом случае несколько завышена."
   ]
  },
  {
   "cell_type": "code",
   "execution_count": 1,
   "metadata": {},
   "outputs": [],
   "source": [
    "import numpy as np\n",
    "import collections\n",
    "import pandas as pd"
   ]
  },
  {
   "cell_type": "code",
   "execution_count": 2,
   "metadata": {},
   "outputs": [],
   "source": [
    "# считываем построчно и разносим отдельно просмотренные id от купленных\n",
    "# все складываем в словарь\n",
    "def load_data(file):\n",
    "    f = open(file)\n",
    "    data = {}\n",
    "    file_len = len(f.readlines())\n",
    "    f.seek(0)\n",
    "    for i in range(file_len):\n",
    "        line = list(f.readline().rstrip('\\n').split(';'))\n",
    "        view = list(line[0].split(','))\n",
    "        view = list(map(lambda x: int(x), view))\n",
    "        if line[1] != '':\n",
    "            pur = list(line[1].split(','))\n",
    "            pur = list(map(lambda x: int(x), pur))\n",
    "        #    data[i] = (view, pur)\n",
    "        else:\n",
    "            pur = np.nan\n",
    "        data[i] = (view, pur)\n",
    "    f.close()\n",
    "    return data"
   ]
  },
  {
   "cell_type": "code",
   "execution_count": 3,
   "metadata": {},
   "outputs": [],
   "source": [
    "train_data = load_data('coursera_sessions_train.txt')\n",
    "test_data = load_data('coursera_sessions_test.txt')"
   ]
  },
  {
   "cell_type": "code",
   "execution_count": 4,
   "metadata": {},
   "outputs": [],
   "source": [
    "train_df = pd.DataFrame.from_dict(train_data, orient = 'index', columns = ['view', 'purch'])\n",
    "test_df = pd.DataFrame.from_dict(test_data, orient = 'index', columns = ['view', 'purch'])"
   ]
  },
  {
   "cell_type": "code",
   "execution_count": 5,
   "metadata": {},
   "outputs": [],
   "source": [
    "train_df = train_df.dropna()\n",
    "test_df = test_df.dropna()"
   ]
  },
  {
   "cell_type": "code",
   "execution_count": 6,
   "metadata": {},
   "outputs": [
    {
     "data": {
      "text/html": [
       "<div>\n",
       "<style scoped>\n",
       "    .dataframe tbody tr th:only-of-type {\n",
       "        vertical-align: middle;\n",
       "    }\n",
       "\n",
       "    .dataframe tbody tr th {\n",
       "        vertical-align: top;\n",
       "    }\n",
       "\n",
       "    .dataframe thead th {\n",
       "        text-align: right;\n",
       "    }\n",
       "</style>\n",
       "<table border=\"1\" class=\"dataframe\">\n",
       "  <thead>\n",
       "    <tr style=\"text-align: right;\">\n",
       "      <th></th>\n",
       "      <th>view</th>\n",
       "      <th>purch</th>\n",
       "    </tr>\n",
       "  </thead>\n",
       "  <tbody>\n",
       "    <tr>\n",
       "      <th>7</th>\n",
       "      <td>[59, 60, 61, 62, 60, 63, 64, 65, 66, 61, 67, 6...</td>\n",
       "      <td>[67, 60, 63]</td>\n",
       "    </tr>\n",
       "    <tr>\n",
       "      <th>10</th>\n",
       "      <td>[84, 85, 86, 87, 88, 89, 84, 90, 91, 92, 93, 86]</td>\n",
       "      <td>[86]</td>\n",
       "    </tr>\n",
       "    <tr>\n",
       "      <th>19</th>\n",
       "      <td>[138, 198, 199, 127]</td>\n",
       "      <td>[199]</td>\n",
       "    </tr>\n",
       "    <tr>\n",
       "      <th>30</th>\n",
       "      <td>[303, 304, 305, 306, 307, 308, 309, 310, 311, ...</td>\n",
       "      <td>[303]</td>\n",
       "    </tr>\n",
       "    <tr>\n",
       "      <th>33</th>\n",
       "      <td>[352, 353, 352]</td>\n",
       "      <td>[352]</td>\n",
       "    </tr>\n",
       "    <tr>\n",
       "      <th>55</th>\n",
       "      <td>[519]</td>\n",
       "      <td>[519]</td>\n",
       "    </tr>\n",
       "    <tr>\n",
       "      <th>64</th>\n",
       "      <td>[599, 600, 601, 602]</td>\n",
       "      <td>[603, 604, 602, 599, 605, 606, 600]</td>\n",
       "    </tr>\n",
       "    <tr>\n",
       "      <th>72</th>\n",
       "      <td>[687, 688, 689, 690, 691, 690, 688, 690, 688, ...</td>\n",
       "      <td>[690, 688]</td>\n",
       "    </tr>\n",
       "    <tr>\n",
       "      <th>89</th>\n",
       "      <td>[850, 851, 852]</td>\n",
       "      <td>[851]</td>\n",
       "    </tr>\n",
       "    <tr>\n",
       "      <th>93</th>\n",
       "      <td>[879, 884, 170, 137, 170, 879, 884, 879, 885, ...</td>\n",
       "      <td>[879]</td>\n",
       "    </tr>\n",
       "  </tbody>\n",
       "</table>\n",
       "</div>"
      ],
      "text/plain": [
       "                                                 view  \\\n",
       "7   [59, 60, 61, 62, 60, 63, 64, 65, 66, 61, 67, 6...   \n",
       "10   [84, 85, 86, 87, 88, 89, 84, 90, 91, 92, 93, 86]   \n",
       "19                               [138, 198, 199, 127]   \n",
       "30  [303, 304, 305, 306, 307, 308, 309, 310, 311, ...   \n",
       "33                                    [352, 353, 352]   \n",
       "55                                              [519]   \n",
       "64                               [599, 600, 601, 602]   \n",
       "72  [687, 688, 689, 690, 691, 690, 688, 690, 688, ...   \n",
       "89                                    [850, 851, 852]   \n",
       "93  [879, 884, 170, 137, 170, 879, 884, 879, 885, ...   \n",
       "\n",
       "                                  purch  \n",
       "7                          [67, 60, 63]  \n",
       "10                                 [86]  \n",
       "19                                [199]  \n",
       "30                                [303]  \n",
       "33                                [352]  \n",
       "55                                [519]  \n",
       "64  [603, 604, 602, 599, 605, 606, 600]  \n",
       "72                           [690, 688]  \n",
       "89                                [851]  \n",
       "93                                [879]  "
      ]
     },
     "execution_count": 6,
     "metadata": {},
     "output_type": "execute_result"
    }
   ],
   "source": [
    "train_df.head(10)"
   ]
  },
  {
   "cell_type": "code",
   "execution_count": 7,
   "metadata": {},
   "outputs": [
    {
     "data": {
      "text/plain": [
       "[[63, 68, 69, 70, 66, 61, 59, 61, 66, 68],\n",
       " [158, 159, 160, 159, 161, 162],\n",
       " [200, 201, 202, 203, 204],\n",
       " [371, 372, 371]]"
      ]
     },
     "execution_count": 7,
     "metadata": {},
     "output_type": "execute_result"
    }
   ],
   "source": [
    "list(test_df.view.iloc[0:4])"
   ]
  },
  {
   "cell_type": "code",
   "execution_count": 8,
   "metadata": {},
   "outputs": [],
   "source": [
    "# функция подсчета повторений id в просмотренных или купленных\n",
    "def counter(dict_data, is_view):\n",
    "    freq_count = collections.Counter()\n",
    "\n",
    "    if is_view:\n",
    "        rank = 0\n",
    "    else:\n",
    "        rank = 1\n",
    "        \n",
    "    for i in range(len(dict_data)):\n",
    "        if dict_data[i][rank] is not np.nan:\n",
    "            for j in dict_data[i][rank]:\n",
    "                freq_count[j] += 1\n",
    "\n",
    "    return freq_count"
   ]
  },
  {
   "cell_type": "code",
   "execution_count": 9,
   "metadata": {},
   "outputs": [],
   "source": [
    "# считаем количество просмотров и покупок по каждому id\n",
    "train_view = counter(train_data, True)\n",
    "train_purch = counter(train_data, False)"
   ]
  },
  {
   "cell_type": "code",
   "execution_count": 33,
   "metadata": {},
   "outputs": [],
   "source": [
    "# функция рассчета метрик для всех вариантов данных\n",
    "def Scores(data, view_purch = 0):\n",
    "    \"\"\"\n",
    "    если view_purch = 0, то считаем по частоте просмотров\n",
    "    если view_purch = 1, то считаем по частоте покупок\n",
    "    \"\"\"\n",
    "    AvgPr5 = []\n",
    "    AvgPr1 = []\n",
    "    AvgRe5 = []\n",
    "    AvgRe1 = []\n",
    "    for i in range(len(data)):\n",
    "        temp_df = pd.DataFrame(columns = ['freq_v', 'freq_p', 'pos', 'id'])\n",
    "\n",
    "        for p, j in enumerate(data.view.iloc[i]):\n",
    "            item = j\n",
    "            pos = p\n",
    "            fr_v = train_view[j]\n",
    "            fr_p = train_purch[j]\n",
    "            temp_df.loc[p] = [fr_v, fr_p, pos, item]\n",
    "        \n",
    "        temp_df = temp_df.drop_duplicates('id')\n",
    "        \n",
    "        if view_purch:\n",
    "            temp_df.sort_values(['freq_p', 'pos'], ascending = [False, True], inplace = True)\n",
    "        else:\n",
    "            temp_df.sort_values(['freq_v', 'pos'], ascending = [False, True], inplace = True)\n",
    "        \n",
    "        Pr5 = len(set(temp_df.id.iloc[0:5]).intersection(data.purch.iloc[i]))\n",
    "        Pr1 = len(set(temp_df.id.iloc[0:1]).intersection(data.purch.iloc[i]))\n",
    "        \n",
    "        Re5 = Pr5 / len(data.purch.iloc[i])\n",
    "        Re1 = Pr1 / len(data.purch.iloc[i])\n",
    "        \n",
    "        Pr5 = Pr5 / 5\n",
    "                  \n",
    "        AvgPr5.append(Pr5)\n",
    "        AvgPr1.append(Pr1)\n",
    "        AvgRe5.append(Re5)\n",
    "        AvgRe1.append(Re1)    \n",
    "        \n",
    "    return round(np.mean(AvgRe1),2), round(np.mean(AvgPr1),2), round(np.mean(AvgRe5),2), round(np.mean(AvgPr5),2)"
   ]
  },
  {
   "cell_type": "code",
   "execution_count": 14,
   "metadata": {},
   "outputs": [],
   "source": [
    "def save_answer(file_name, answer):\n",
    "    with open(file_name, \"w\") as f:\n",
    "        f.write(\" \".join([str(x) for x in answer]))"
   ]
  },
  {
   "cell_type": "code",
   "execution_count": 30,
   "metadata": {},
   "outputs": [],
   "source": [
    "save_answer('views_popularity_train.txt', Scores(train_df, 0))"
   ]
  },
  {
   "cell_type": "code",
   "execution_count": 21,
   "metadata": {},
   "outputs": [],
   "source": [
    "save_answer('views_popularity_test.txt' ,Scores(test_df, 0))"
   ]
  },
  {
   "cell_type": "code",
   "execution_count": 17,
   "metadata": {},
   "outputs": [],
   "source": [
    "save_answer('purchases_popularity_train.txt', Scores(train_df, 1))"
   ]
  },
  {
   "cell_type": "code",
   "execution_count": 18,
   "metadata": {},
   "outputs": [],
   "source": [
    "save_answer('purchases_popularity_test.txt', Scores(test_df, 1))"
   ]
  }
 ],
 "metadata": {
  "kernelspec": {
   "display_name": "Python 3",
   "language": "python",
   "name": "python3"
  },
  "language_info": {
   "codemirror_mode": {
    "name": "ipython",
    "version": 3
   },
   "file_extension": ".py",
   "mimetype": "text/x-python",
   "name": "python",
   "nbconvert_exporter": "python",
   "pygments_lexer": "ipython3",
   "version": "3.8.5"
  }
 },
 "nbformat": 4,
 "nbformat_minor": 4
}
