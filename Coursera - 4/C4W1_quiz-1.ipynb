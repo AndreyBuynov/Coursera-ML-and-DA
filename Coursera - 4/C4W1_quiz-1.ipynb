{
 "cells": [
  {
   "cell_type": "markdown",
   "metadata": {},
   "source": [
    "## Доверительные интервалы для среднего"
   ]
  },
  {
   "cell_type": "markdown",
   "metadata": {},
   "source": [
    "2.\n",
    "Для 61 большого города в Англии и Уэльсе известны средняя годовая смертность на 100000 населения (по данным 1958–1964) и концентрация кальция в питьевой воде (в частях на миллион). Чем выше концентрация кальция, тем жёстче вода. Города дополнительно поделены на северные и южные.\n",
    "\n",
    "Постройте 95% доверительный интервал для средней годовой смертности в больших городах. Чему равна его нижняя граница? Округлите ответ до 4 знаков после десятичной точки.\n",
    "\n",
    "Будьте осторожны при использовании метода std()! Дело в том, что у объекта numpy он по умолчанию вычисляется как $\\sqrt{\\frac{1}{n}\\sum_{i=1}^{n}{(X_{i} - \\bar{X})^{2}}}$\n",
    "\n",
    "а у объекта pandas — как $\\sqrt{\\frac{1}{n-1}\\sum_{i=1}^{n}{(X_{i} - \\bar{X})^{2}}}$\n",
    "\n",
    "\n",
    "Нас интересует только второй вариант, несмещённая оценка стандартного отклонения.\n",
    "\n",
    "Чтобы не думать всё время о том, правильно ли вычисляется в вашем случае std(), можно всегда использовать std(ddof=1) (ddof — difference in degrees of freedom), тогда нормировка всегда будет на n-1."
   ]
  },
  {
   "cell_type": "code",
   "execution_count": 79,
   "metadata": {},
   "outputs": [],
   "source": [
    "import pandas as pd\n",
    "from statsmodels.stats.weightstats import _zconfint_generic, _tconfint_generic\n",
    "import numpy as np"
   ]
  },
  {
   "cell_type": "code",
   "execution_count": 91,
   "metadata": {},
   "outputs": [
    {
     "data": {
      "text/html": [
       "<div>\n",
       "<style scoped>\n",
       "    .dataframe tbody tr th:only-of-type {\n",
       "        vertical-align: middle;\n",
       "    }\n",
       "\n",
       "    .dataframe tbody tr th {\n",
       "        vertical-align: top;\n",
       "    }\n",
       "\n",
       "    .dataframe thead th {\n",
       "        text-align: right;\n",
       "    }\n",
       "</style>\n",
       "<table border=\"1\" class=\"dataframe\">\n",
       "  <thead>\n",
       "    <tr style=\"text-align: right;\">\n",
       "      <th></th>\n",
       "      <th>mortality</th>\n",
       "      <th>hardness</th>\n",
       "    </tr>\n",
       "  </thead>\n",
       "  <tbody>\n",
       "    <tr>\n",
       "      <th>count</th>\n",
       "      <td>61.000000</td>\n",
       "      <td>60.000000</td>\n",
       "    </tr>\n",
       "    <tr>\n",
       "      <th>mean</th>\n",
       "      <td>1494.770492</td>\n",
       "      <td>47.716667</td>\n",
       "    </tr>\n",
       "    <tr>\n",
       "      <th>std</th>\n",
       "      <td>266.397284</td>\n",
       "      <td>38.182475</td>\n",
       "    </tr>\n",
       "    <tr>\n",
       "      <th>min</th>\n",
       "      <td>15.000000</td>\n",
       "      <td>5.000000</td>\n",
       "    </tr>\n",
       "    <tr>\n",
       "      <th>25%</th>\n",
       "      <td>1378.000000</td>\n",
       "      <td>14.000000</td>\n",
       "    </tr>\n",
       "    <tr>\n",
       "      <th>50%</th>\n",
       "      <td>1527.000000</td>\n",
       "      <td>39.000000</td>\n",
       "    </tr>\n",
       "    <tr>\n",
       "      <th>75%</th>\n",
       "      <td>1640.000000</td>\n",
       "      <td>75.750000</td>\n",
       "    </tr>\n",
       "    <tr>\n",
       "      <th>max</th>\n",
       "      <td>1987.000000</td>\n",
       "      <td>138.000000</td>\n",
       "    </tr>\n",
       "  </tbody>\n",
       "</table>\n",
       "</div>"
      ],
      "text/plain": [
       "         mortality    hardness\n",
       "count    61.000000   60.000000\n",
       "mean   1494.770492   47.716667\n",
       "std     266.397284   38.182475\n",
       "min      15.000000    5.000000\n",
       "25%    1378.000000   14.000000\n",
       "50%    1527.000000   39.000000\n",
       "75%    1640.000000   75.750000\n",
       "max    1987.000000  138.000000"
      ]
     },
     "execution_count": 91,
     "metadata": {},
     "output_type": "execute_result"
    }
   ],
   "source": [
    "file =  open('water.txt', 'r')\n",
    "data = pd.DataFrame(columns = file.readline().split())\n",
    "i = 0\n",
    "for line in file:\n",
    "    l = line.split()\n",
    "    if len(l) < 4:\n",
    "        l.append('')\n",
    "    data.loc[i] = l\n",
    "    i += 1\n",
    "file.close()\n",
    "data['mortality'] = data['mortality'].apply(lambda col:pd.to_numeric(col))\n",
    "data['hardness'] = data['hardness'].apply(lambda col:pd.to_numeric(col))\n",
    "data.describe()"
   ]
  },
  {
   "cell_type": "code",
   "execution_count": 92,
   "metadata": {},
   "outputs": [
    {
     "data": {
      "text/html": [
       "<div>\n",
       "<style scoped>\n",
       "    .dataframe tbody tr th:only-of-type {\n",
       "        vertical-align: middle;\n",
       "    }\n",
       "\n",
       "    .dataframe tbody tr th {\n",
       "        vertical-align: top;\n",
       "    }\n",
       "\n",
       "    .dataframe thead th {\n",
       "        text-align: right;\n",
       "    }\n",
       "</style>\n",
       "<table border=\"1\" class=\"dataframe\">\n",
       "  <thead>\n",
       "    <tr style=\"text-align: right;\">\n",
       "      <th></th>\n",
       "      <th>location</th>\n",
       "      <th>town</th>\n",
       "      <th>mortality</th>\n",
       "      <th>hardness</th>\n",
       "    </tr>\n",
       "  </thead>\n",
       "  <tbody>\n",
       "    <tr>\n",
       "      <th>0</th>\n",
       "      <td>South</td>\n",
       "      <td>Bath</td>\n",
       "      <td>1247</td>\n",
       "      <td>105.0</td>\n",
       "    </tr>\n",
       "    <tr>\n",
       "      <th>1</th>\n",
       "      <td>North</td>\n",
       "      <td>Birkenhead</td>\n",
       "      <td>1668</td>\n",
       "      <td>17.0</td>\n",
       "    </tr>\n",
       "    <tr>\n",
       "      <th>2</th>\n",
       "      <td>South</td>\n",
       "      <td>Birmingham</td>\n",
       "      <td>1466</td>\n",
       "      <td>5.0</td>\n",
       "    </tr>\n",
       "    <tr>\n",
       "      <th>3</th>\n",
       "      <td>North</td>\n",
       "      <td>Blackburn</td>\n",
       "      <td>1800</td>\n",
       "      <td>14.0</td>\n",
       "    </tr>\n",
       "    <tr>\n",
       "      <th>4</th>\n",
       "      <td>North</td>\n",
       "      <td>Blackpool</td>\n",
       "      <td>1609</td>\n",
       "      <td>18.0</td>\n",
       "    </tr>\n",
       "    <tr>\n",
       "      <th>...</th>\n",
       "      <td>...</td>\n",
       "      <td>...</td>\n",
       "      <td>...</td>\n",
       "      <td>...</td>\n",
       "    </tr>\n",
       "    <tr>\n",
       "      <th>56</th>\n",
       "      <td>South</td>\n",
       "      <td>Walsall</td>\n",
       "      <td>1527</td>\n",
       "      <td>60.0</td>\n",
       "    </tr>\n",
       "    <tr>\n",
       "      <th>57</th>\n",
       "      <td>South</td>\n",
       "      <td>West-Bromwich</td>\n",
       "      <td>1627</td>\n",
       "      <td>53.0</td>\n",
       "    </tr>\n",
       "    <tr>\n",
       "      <th>58</th>\n",
       "      <td>South</td>\n",
       "      <td>West-Ham</td>\n",
       "      <td>1486</td>\n",
       "      <td>122.0</td>\n",
       "    </tr>\n",
       "    <tr>\n",
       "      <th>59</th>\n",
       "      <td>South</td>\n",
       "      <td>Wolverhampton</td>\n",
       "      <td>1485</td>\n",
       "      <td>81.0</td>\n",
       "    </tr>\n",
       "    <tr>\n",
       "      <th>60</th>\n",
       "      <td>North</td>\n",
       "      <td>York</td>\n",
       "      <td>1378</td>\n",
       "      <td>71.0</td>\n",
       "    </tr>\n",
       "  </tbody>\n",
       "</table>\n",
       "<p>61 rows × 4 columns</p>\n",
       "</div>"
      ],
      "text/plain": [
       "   location           town  mortality  hardness\n",
       "0     South           Bath       1247     105.0\n",
       "1     North     Birkenhead       1668      17.0\n",
       "2     South     Birmingham       1466       5.0\n",
       "3     North      Blackburn       1800      14.0\n",
       "4     North      Blackpool       1609      18.0\n",
       "..      ...            ...        ...       ...\n",
       "56    South        Walsall       1527      60.0\n",
       "57    South  West-Bromwich       1627      53.0\n",
       "58    South       West-Ham       1486     122.0\n",
       "59    South  Wolverhampton       1485      81.0\n",
       "60    North           York       1378      71.0\n",
       "\n",
       "[61 rows x 4 columns]"
      ]
     },
     "execution_count": 92,
     "metadata": {},
     "output_type": "execute_result"
    }
   ],
   "source": [
    "data"
   ]
  },
  {
   "cell_type": "code",
   "execution_count": 119,
   "metadata": {},
   "outputs": [
    {
     "data": {
      "text/plain": [
       "61"
      ]
     },
     "execution_count": 119,
     "metadata": {},
     "output_type": "execute_result"
    }
   ],
   "source": [
    "len(data.mortality)"
   ]
  },
  {
   "cell_type": "code",
   "execution_count": 112,
   "metadata": {},
   "outputs": [],
   "source": [
    "mortality_mean = data['mortality'].mean()\n",
    "mortality_mean_std = data['mortality'].std(ddof=1)/np.sqrt(len(data['mortality']))"
   ]
  },
  {
   "cell_type": "code",
   "execution_count": 115,
   "metadata": {},
   "outputs": [
    {
     "name": "stdout",
     "output_type": "stream",
     "text": [
      "Mortality: mean 1494.770, std 34.109\n",
      "Mortality 95%% confidence interval (1426.542979296685, 1562.9980043098724)\n"
     ]
    }
   ],
   "source": [
    "print(\"Mortality: mean %.3f, std %.3f\" % (mortality_mean, mortality_mean_std))\n",
    "print(\"Mortality 95%% confidence interval\", _tconfint_generic(mortality_mean, mortality_mean_std,\n",
    "                                                                       len(data['mortality']) - 1,\n",
    "                                                                       0.05, 'two-sided'))"
   ]
  },
  {
   "cell_type": "code",
   "execution_count": 95,
   "metadata": {},
   "outputs": [
    {
     "data": {
      "text/plain": [
       "1426.543"
      ]
     },
     "execution_count": 95,
     "metadata": {},
     "output_type": "execute_result"
    }
   ],
   "source": [
    "answer2 = round(1426.542979296685, 4)\n",
    "answer2"
   ]
  },
  {
   "cell_type": "markdown",
   "metadata": {},
   "source": [
    "3.\n",
    "На данных из предыдущего вопроса постройте 95% доверительный интервал для средней годовой смертности по всем южным городам. Чему равна его верхняя граница? Округлите ответ до 4 знаков после десятичной точки."
   ]
  },
  {
   "cell_type": "code",
   "execution_count": 96,
   "metadata": {},
   "outputs": [],
   "source": [
    "mortality_mean_south = data[data['location'] == 'South']['mortality'].mean()\n",
    "mortality_mean_south_std = data[data['location'] == 'South']['mortality'].std()/np.sqrt(len(data[data['location'] == 'South']))"
   ]
  },
  {
   "cell_type": "code",
   "execution_count": 116,
   "metadata": {},
   "outputs": [
    {
     "name": "stdout",
     "output_type": "stream",
     "text": [
      "Mortality in south city: mean 1376.808, std 27.509\n",
      "Mortality in south city 95%% confidence interval (1320.1517462936238, 1433.463638321761)\n"
     ]
    }
   ],
   "source": [
    "print(\"Mortality in south city: mean %.3f, std %.3f\" % (mortality_mean_south, mortality_mean_south_std))\n",
    "print(\"Mortality in south city 95%% confidence interval\", _tconfint_generic(mortality_mean_south, mortality_mean_south_std,\n",
    "                                                                       len(data[data['location'] == 'South']) - 1,\n",
    "                                                                       0.05, 'two-sided'))"
   ]
  },
  {
   "cell_type": "code",
   "execution_count": 98,
   "metadata": {},
   "outputs": [
    {
     "data": {
      "text/plain": [
       "1433.4636"
      ]
     },
     "execution_count": 98,
     "metadata": {},
     "output_type": "execute_result"
    }
   ],
   "source": [
    "answer2 = round(1433.463638321761, 4)\n",
    "answer2"
   ]
  },
  {
   "cell_type": "markdown",
   "metadata": {},
   "source": [
    "4.\n",
    "На тех же данных постройте 95% доверительный интервал для средней годовой смертности по всем северным городам. Пересекается ли этот интервал с предыдущим? Как вы думаете, какой из этого можно сделать вывод?"
   ]
  },
  {
   "cell_type": "code",
   "execution_count": 117,
   "metadata": {},
   "outputs": [
    {
     "name": "stdout",
     "output_type": "stream",
     "text": [
      "Mortality in north city: mean 1582.400, std 51.332\n",
      "Mortality in north city 95%% confidence interval (1478.0810398753142, 1686.718960124686)\n"
     ]
    }
   ],
   "source": [
    "mortality_mean_north = data[data['location'] == 'North']['mortality'].mean()\n",
    "mortality_mean_north_std = data[data['location'] == 'North']['mortality'].std()/np.sqrt(len(data[data['location'] == 'North']))\n",
    "print(\"Mortality in north city: mean %.3f, std %.3f\" % (mortality_mean_north, mortality_mean_north_std))\n",
    "print(\"Mortality in north city 95%% confidence interval\", _tconfint_generic(mortality_mean_north, mortality_mean_north_std,\n",
    "                                                                       len(data[data['location'] == 'North']) - 1,\n",
    "                                                                       0.05, 'two-sided'))"
   ]
  },
  {
   "cell_type": "code",
   "execution_count": 118,
   "metadata": {},
   "outputs": [
    {
     "name": "stdout",
     "output_type": "stream",
     "text": [
      "Mortality in south city 95%% confidence interval (1320.1517462936238, 1433.463638321761)\n",
      "Mortality in north city 95%% confidence interval (1478.0810398753142, 1686.718960124686)\n"
     ]
    }
   ],
   "source": [
    "print(\"Mortality in south city 95%% confidence interval\", _tconfint_generic(mortality_mean_south, mortality_mean_south_std,\n",
    "                                                                       len(data[data['location'] == 'South']) - 1,\n",
    "                                                                       0.05, 'two-sided'))\n",
    "print(\"Mortality in north city 95%% confidence interval\", _tconfint_generic(mortality_mean_north, mortality_mean_north_std,\n",
    "                                                                       len(data[data['location'] == 'North']) - 1,\n",
    "                                                                       0.05, 'two-sided'))"
   ]
  },
  {
   "cell_type": "markdown",
   "metadata": {},
   "source": [
    "5.\n",
    "Пересекаются ли 95% доверительные интервалы для средней жёсткости воды в северных и южных городах?"
   ]
  },
  {
   "cell_type": "code",
   "execution_count": 90,
   "metadata": {},
   "outputs": [
    {
     "name": "stdout",
     "output_type": "stream",
     "text": [
      "North city hardness mean auc 95%% confidence interval (19.1937807693433, 38.16985559429307)\n",
      "South city hardness mean auc 95%% confidence interval (46.0379774490252, 87.10487969383195)\n"
     ]
    }
   ],
   "source": [
    "data_hard = data.dropna()\n",
    "hardness_north_mean = data_hard[data_hard['location'] == 'North']['hardness'].mean()\n",
    "hardness_north_std = data_hard[data_hard['location'] == 'North']['hardness'].std()/np.sqrt(len(data_hard[data_hard['location'] == 'North']))\n",
    "hardness_south_mean = data_hard[data_hard['location'] == 'South']['hardness'].mean()\n",
    "hardness_south_std = data_hard[data_hard['location'] == 'South']['hardness'].std()/np.sqrt(len(data_hard[data_hard['location'] == 'South']))\n",
    "print(\"North city hardness mean auc 95%% confidence interval\", _tconfint_generic(hardness_north_mean, hardness_north_std,\n",
    "                                                                       len(data_hard[data_hard['location'] == 'North']) - 1,\n",
    "                                                                       0.05, 'two-sided'))\n",
    "print(\"South city hardness mean auc 95%% confidence interval\", _tconfint_generic(hardness_south_mean, hardness_south_std,\n",
    "                                                                       len(data_hard[data_hard['location'] == 'South']) - 1,\n",
    "                                                                       0.05, 'two-sided'))"
   ]
  },
  {
   "cell_type": "markdown",
   "metadata": {},
   "source": [
    "6.\n",
    "Вспомним формулу доверительного интервала для среднего нормально распределённой случайной величины с дисперсией $\\sigma^2$:\n",
    "\n",
    "$\\bar{X_{n}}\\pm z_{1-\\frac{\\alpha }{2}}\\frac{\\sigma }{\\sqrt{n}}$\n",
    "\n",
    "При $\\sigma=1$ какой нужен объём выборки, чтобы на уровне доверия 95% оценить среднее с точностью $\\pm$0.1?"
   ]
  },
  {
   "cell_type": "code",
   "execution_count": 109,
   "metadata": {},
   "outputs": [
    {
     "data": {
      "text/plain": [
       "384.1599999999999"
      ]
     },
     "execution_count": 109,
     "metadata": {},
     "output_type": "execute_result"
    }
   ],
   "source": [
    "n = (1**2)*(1.96**2)/0.1**2\n",
    "n"
   ]
  },
  {
   "cell_type": "code",
   "execution_count": null,
   "metadata": {},
   "outputs": [],
   "source": [
    "answer6 = 385"
   ]
  }
 ],
 "metadata": {
  "kernelspec": {
   "display_name": "Python 3",
   "language": "python",
   "name": "python3"
  },
  "language_info": {
   "codemirror_mode": {
    "name": "ipython",
    "version": 3
   },
   "file_extension": ".py",
   "mimetype": "text/x-python",
   "name": "python",
   "nbconvert_exporter": "python",
   "pygments_lexer": "ipython3",
   "version": "3.7.7"
  }
 },
 "nbformat": 4,
 "nbformat_minor": 4
}
